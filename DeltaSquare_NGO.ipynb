{
 "cells": [
  {
   "cell_type": "markdown",
   "id": "13d413d5",
   "metadata": {},
   "source": [
    "# DeltaSquare NGO Income Analysis and Prediction"
   ]
  },
  {
   "cell_type": "markdown",
   "id": "1b15629b",
   "metadata": {},
   "source": [
    "## Background\n",
    "\n",
    "DeltaSquare is an NGO that works with the Government on matters of social policy to bring about a change in the lives of underprivileged sections of society. They are tasked with coming up with a policy framework by looking at some data gotten from WHO."
   ]
  },
  {
   "cell_type": "markdown",
   "id": "dea3b12a",
   "metadata": {},
   "source": [
    "## Problem\n",
    "\n",
    "This project aims to answer the following key questions:\n",
    "- What are the different factors that influence the income of an individual?\n",
    "- Are these factors things that can be controlled or influenced by creating new laws or amending current ones?\n",
    "- What are the measures the government can take to incentivize or disincentivize the laws?\n",
    "- Is there a good predictive model for income that exists? What does the performance assessment look like for such a model?"
   ]
  },
  {
   "cell_type": "markdown",
   "id": "78944fda",
   "metadata": {},
   "source": [
    "## Objectives\n",
    "\n",
    "The goal of this project is to: \n",
    "- Discover and analyse the different factors that influence the income of an individual\n",
    "- Identify the underprivileged persons in the society by using various factors to predict their income class (<50K).\n",
    "\n",
    "The developed model would be optimised for recall because it is important for the government to identify as many underpriviledged persons in the society as possible in order to design a policy framework that would be suitable for these group of people."
   ]
  },
  {
   "cell_type": "markdown",
   "id": "0b1de18b",
   "metadata": {},
   "source": [
    "## Data Description\n",
    "\n",
    "The data contains characteristics of the people:\n",
    "\n",
    "- **age**: Age of a Person\n",
    "- **workclass**: Type of employment e.g Private, Self-emp-not-inc, Self-emp-inc, Federal-gov, Local-gov, State-gov, Without-pay, Never-worked\n",
    "- **fnlwgt**: This weight is assigned by the Current Population Survey (CPS). People with similar demographic characteristics should have similar weights since it is a feature aimed to allocate similar weights to people with similar demographic characteristics\n",
    "- **education**: Degree the person has - Bachelors, Some-college, 11th, HS-grad, Prof-school, Assoc-acdm, Assoc-voc, 9th, 7th-8th, 12th, Masters, 1st-4th, 10th, Doctorate, 5th-6th, Preschool.\n",
    "- **education-num**: Number of years a person studied\n",
    "- **marital-status**: Married-civ-spouse, Divorced, Never-married, Separated, Widowed, Married-spouse-absent, Married-AF-spouse.\n",
    "- **occupation**: Tech-support, Craft-repair, Other-service, Sales, Exec-managerial, Prof-specialty, Handlers-cleaners, Machine-op-inspct, Adm-clerical, Farming-fishing, Transport-moving, Priv-house-serv, Protective-serv, Armed-Forces.\n",
    "- **relationship**: Wife, Own-child, Husband, Not-in-family, Other-relative, Unmarried.\n",
    "- **race**: White, Asian-Pac-Islander, Amer-Indian-Eskimo, Other, Black.\n",
    "- **sex**: Female, Male.\n",
    "- **capital-gain**: Investment gain of the person other than salary\n",
    "- **capital-loss**: Loss from investments\n",
    "- **hours-per-week**: Number of hours a person works\n",
    "- **native-country**: United-States, Cambodia, England, Puerto-Rico, Canada, Germany, Outlying-US(Guam-USVI-etc), India, Japan, Greece, South, China, Cuba, Iran, Honduras, Philippines, Italy, Poland, Jamaica, Vietnam, Mexico, Portugal, Ireland, France, Dominican-Republic, Laos, Ecuador, Taiwan, Haiti, Columbia, Hungary, Guatemala, Nicaragua, Scotland, Thailand, Yugoslavia, El-Salvador, Trinadad&Tobago, Peru, Hong, Holand-Netherlands.\n",
    "- **salary**: >50K, <=50K (dependent variable, the salary is in Dollars per year)"
   ]
  },
  {
   "cell_type": "markdown",
   "id": "d4d7c468",
   "metadata": {},
   "source": [
    "## Analysis and Prediction"
   ]
  },
  {
   "cell_type": "markdown",
   "id": "c4c3c052",
   "metadata": {},
   "source": [
    "### Import relevant libraries"
   ]
  },
  {
   "cell_type": "code",
   "execution_count": 1,
   "id": "44ee33a5",
   "metadata": {},
   "outputs": [],
   "source": [
    "import numpy as np # numerical computations\n",
    "import pandas as pd # data manipulation\n",
    "\n",
    "# for creating visualisations\n",
    "import matplotlib.pyplot as plt\n",
    "%matplotlib inline \n",
    "import seaborn as sns\n",
    "\n",
    "from sklearn.linear_model import LogisticRegression # builds the model\n",
    "from sklearn.preprocessing import StandardScaler # data normalisation\n",
    "\n",
    "# performance metrics computation\n",
    "from sklearn.metrics import (precision_score, recall_score, f1_score, accuracy_score, precision_recall_curve,\n",
    "                             roc_auc_score, ConfusionMatrixDisplay, confusion_matrix, roc_curve)"
   ]
  },
  {
   "cell_type": "markdown",
   "id": "43624fe7",
   "metadata": {},
   "source": [
    "### Load the data"
   ]
  },
  {
   "cell_type": "code",
   "execution_count": 2,
   "id": "ec418456",
   "metadata": {},
   "outputs": [
    {
     "data": {
      "text/html": [
       "<div>\n",
       "<style scoped>\n",
       "    .dataframe tbody tr th:only-of-type {\n",
       "        vertical-align: middle;\n",
       "    }\n",
       "\n",
       "    .dataframe tbody tr th {\n",
       "        vertical-align: top;\n",
       "    }\n",
       "\n",
       "    .dataframe thead th {\n",
       "        text-align: right;\n",
       "    }\n",
       "</style>\n",
       "<table border=\"1\" class=\"dataframe\">\n",
       "  <thead>\n",
       "    <tr style=\"text-align: right;\">\n",
       "      <th></th>\n",
       "      <th>age</th>\n",
       "      <th>workclass</th>\n",
       "      <th>fnlwgt</th>\n",
       "      <th>education</th>\n",
       "      <th>education_no_of_years</th>\n",
       "      <th>marital_status</th>\n",
       "      <th>occupation</th>\n",
       "      <th>relationship</th>\n",
       "      <th>race</th>\n",
       "      <th>sex</th>\n",
       "      <th>capital_gain</th>\n",
       "      <th>capital_loss</th>\n",
       "      <th>working_hours_per_week</th>\n",
       "      <th>native_country</th>\n",
       "      <th>salary</th>\n",
       "    </tr>\n",
       "  </thead>\n",
       "  <tbody>\n",
       "    <tr>\n",
       "      <th>0</th>\n",
       "      <td>39</td>\n",
       "      <td>State-gov</td>\n",
       "      <td>77516</td>\n",
       "      <td>Bachelors</td>\n",
       "      <td>13</td>\n",
       "      <td>Never-married</td>\n",
       "      <td>Adm-clerical</td>\n",
       "      <td>Not-in-family</td>\n",
       "      <td>White</td>\n",
       "      <td>Male</td>\n",
       "      <td>2174</td>\n",
       "      <td>0</td>\n",
       "      <td>40</td>\n",
       "      <td>United-States</td>\n",
       "      <td>&lt;=50K</td>\n",
       "    </tr>\n",
       "    <tr>\n",
       "      <th>1</th>\n",
       "      <td>50</td>\n",
       "      <td>Self-emp-not-inc</td>\n",
       "      <td>83311</td>\n",
       "      <td>Bachelors</td>\n",
       "      <td>13</td>\n",
       "      <td>Married-civ-spouse</td>\n",
       "      <td>Exec-managerial</td>\n",
       "      <td>Husband</td>\n",
       "      <td>White</td>\n",
       "      <td>Male</td>\n",
       "      <td>0</td>\n",
       "      <td>0</td>\n",
       "      <td>13</td>\n",
       "      <td>United-States</td>\n",
       "      <td>&lt;=50K</td>\n",
       "    </tr>\n",
       "    <tr>\n",
       "      <th>2</th>\n",
       "      <td>38</td>\n",
       "      <td>Private</td>\n",
       "      <td>215646</td>\n",
       "      <td>HS-grad</td>\n",
       "      <td>9</td>\n",
       "      <td>Divorced</td>\n",
       "      <td>Handlers-cleaners</td>\n",
       "      <td>Not-in-family</td>\n",
       "      <td>White</td>\n",
       "      <td>Male</td>\n",
       "      <td>0</td>\n",
       "      <td>0</td>\n",
       "      <td>40</td>\n",
       "      <td>United-States</td>\n",
       "      <td>&lt;=50K</td>\n",
       "    </tr>\n",
       "    <tr>\n",
       "      <th>3</th>\n",
       "      <td>53</td>\n",
       "      <td>Private</td>\n",
       "      <td>234721</td>\n",
       "      <td>11th</td>\n",
       "      <td>7</td>\n",
       "      <td>Married-civ-spouse</td>\n",
       "      <td>Handlers-cleaners</td>\n",
       "      <td>Husband</td>\n",
       "      <td>Black</td>\n",
       "      <td>Male</td>\n",
       "      <td>0</td>\n",
       "      <td>0</td>\n",
       "      <td>40</td>\n",
       "      <td>United-States</td>\n",
       "      <td>&lt;=50K</td>\n",
       "    </tr>\n",
       "    <tr>\n",
       "      <th>4</th>\n",
       "      <td>28</td>\n",
       "      <td>Private</td>\n",
       "      <td>338409</td>\n",
       "      <td>Bachelors</td>\n",
       "      <td>13</td>\n",
       "      <td>Married-civ-spouse</td>\n",
       "      <td>Prof-specialty</td>\n",
       "      <td>Wife</td>\n",
       "      <td>Black</td>\n",
       "      <td>Female</td>\n",
       "      <td>0</td>\n",
       "      <td>0</td>\n",
       "      <td>40</td>\n",
       "      <td>Cuba</td>\n",
       "      <td>&lt;=50K</td>\n",
       "    </tr>\n",
       "  </tbody>\n",
       "</table>\n",
       "</div>"
      ],
      "text/plain": [
       "   age          workclass  fnlwgt   education  education_no_of_years  \\\n",
       "0   39          State-gov   77516   Bachelors                     13   \n",
       "1   50   Self-emp-not-inc   83311   Bachelors                     13   \n",
       "2   38            Private  215646     HS-grad                      9   \n",
       "3   53            Private  234721        11th                      7   \n",
       "4   28            Private  338409   Bachelors                     13   \n",
       "\n",
       "        marital_status          occupation    relationship    race      sex  \\\n",
       "0        Never-married        Adm-clerical   Not-in-family   White     Male   \n",
       "1   Married-civ-spouse     Exec-managerial         Husband   White     Male   \n",
       "2             Divorced   Handlers-cleaners   Not-in-family   White     Male   \n",
       "3   Married-civ-spouse   Handlers-cleaners         Husband   Black     Male   \n",
       "4   Married-civ-spouse      Prof-specialty            Wife   Black   Female   \n",
       "\n",
       "   capital_gain  capital_loss  working_hours_per_week  native_country  salary  \n",
       "0          2174             0                      40   United-States   <=50K  \n",
       "1             0             0                      13   United-States   <=50K  \n",
       "2             0             0                      40   United-States   <=50K  \n",
       "3             0             0                      40   United-States   <=50K  \n",
       "4             0             0                      40            Cuba   <=50K  "
      ]
     },
     "execution_count": 2,
     "metadata": {},
     "output_type": "execute_result"
    }
   ],
   "source": [
    "data = pd.read_csv('who_data.csv') # loading the data\n",
    "df = data.copy() # making a copy of the data to preserve the integrity of the original one\n",
    "df.head() # showing the first 5 rows of the data"
   ]
  },
  {
   "cell_type": "markdown",
   "id": "ff45c8d6",
   "metadata": {},
   "source": [
    "### Perform Exploratory Data Analysis"
   ]
  },
  {
   "cell_type": "code",
   "execution_count": 3,
   "id": "fc046f45",
   "metadata": {},
   "outputs": [
    {
     "data": {
      "text/plain": [
       "(32561, 15)"
      ]
     },
     "execution_count": 3,
     "metadata": {},
     "output_type": "execute_result"
    }
   ],
   "source": [
    "# checking the dimension of the data\n",
    "df.shape"
   ]
  },
  {
   "cell_type": "markdown",
   "id": "cf1f052e",
   "metadata": {},
   "source": [
    "- There are 32,561 rows and 15 columns in the data"
   ]
  },
  {
   "cell_type": "code",
   "execution_count": 4,
   "id": "fb137346",
   "metadata": {},
   "outputs": [],
   "source": [
    "# checking for empty values\n",
    "for i in df.columns: #looping through each column\n",
    "    for row, value in enumerate(df[i]): #looping through each row in the columns \n",
    "        if value == ' ': #looking for empty values\n",
    "            print(f'Empty value found on row: {row}') #printing a message if an empty value is found"
   ]
  },
  {
   "cell_type": "markdown",
   "id": "686828b7",
   "metadata": {},
   "source": [
    "- There are no empty strings found in the dataset"
   ]
  },
  {
   "cell_type": "code",
   "execution_count": 5,
   "id": "8f1226b5",
   "metadata": {},
   "outputs": [
    {
     "data": {
      "text/plain": [
       "24"
      ]
     },
     "execution_count": 5,
     "metadata": {},
     "output_type": "execute_result"
    }
   ],
   "source": [
    "# checking for duplicated values\n",
    "df.duplicated().sum()"
   ]
  },
  {
   "cell_type": "markdown",
   "id": "f8ae1d7c",
   "metadata": {},
   "source": [
    "There are 24 duplicated rows in the data. This would be treated by dropping the duplicates"
   ]
  },
  {
   "cell_type": "code",
   "execution_count": 6,
   "id": "f51e09c7",
   "metadata": {},
   "outputs": [],
   "source": [
    "df.drop_duplicates(inplace=True) # drop the duplicates\n",
    "df.reset_index(drop=True, inplace=True) # reset the index"
   ]
  },
  {
   "cell_type": "code",
   "execution_count": 7,
   "id": "e41d338e",
   "metadata": {},
   "outputs": [
    {
     "data": {
      "text/plain": [
       "0"
      ]
     },
     "execution_count": 7,
     "metadata": {},
     "output_type": "execute_result"
    }
   ],
   "source": [
    "# quality check\n",
    "df.duplicated().sum()"
   ]
  },
  {
   "cell_type": "markdown",
   "id": "96a1f7bb",
   "metadata": {},
   "source": [
    "- The duplicated values have been treated"
   ]
  },
  {
   "cell_type": "code",
   "execution_count": 8,
   "id": "8c5fd9d7",
   "metadata": {
    "scrolled": false
   },
   "outputs": [
    {
     "name": "stdout",
     "output_type": "stream",
     "text": [
      "age:\n",
      "\n",
      "[39 50 38 53 28 37 49 52 31 42 30 23 32 40 34 25 43 54 35 59 56 19 20 45\n",
      " 22 48 21 24 57 44 41 29 18 47 46 36 79 27 67 33 76 17 55 61 70 64 71 68\n",
      " 66 51 58 26 60 90 75 65 77 62 63 80 72 74 69 73 81 78 88 82 83 84 85 86\n",
      " 87]\n",
      "________________________________________________________________________________\n",
      "workclass:\n",
      "\n",
      "[' State-gov' ' Self-emp-not-inc' ' Private' ' Federal-gov' ' Local-gov'\n",
      " ' ?' ' Self-emp-inc' ' Without-pay' ' Never-worked']\n",
      "________________________________________________________________________________\n",
      "fnlwgt:\n",
      "\n",
      "[ 77516  83311 215646 ...  34066  84661 257302]\n",
      "________________________________________________________________________________\n",
      "education:\n",
      "\n",
      "[' Bachelors' ' HS-grad' ' 11th' ' Masters' ' 9th' ' Some-college'\n",
      " ' Assoc-acdm' ' Assoc-voc' ' 7th-8th' ' Doctorate' ' Prof-school'\n",
      " ' 5th-6th' ' 10th' ' 1st-4th' ' Preschool' ' 12th']\n",
      "________________________________________________________________________________\n",
      "education_no_of_years:\n",
      "\n",
      "[13  9  7 14  5 10 12 11  4 16 15  3  6  2  1  8]\n",
      "________________________________________________________________________________\n",
      "marital_status:\n",
      "\n",
      "[' Never-married' ' Married-civ-spouse' ' Divorced'\n",
      " ' Married-spouse-absent' ' Separated' ' Married-AF-spouse' ' Widowed']\n",
      "________________________________________________________________________________\n",
      "occupation:\n",
      "\n",
      "[' Adm-clerical' ' Exec-managerial' ' Handlers-cleaners' ' Prof-specialty'\n",
      " ' Other-service' ' Sales' ' Craft-repair' ' Transport-moving'\n",
      " ' Farming-fishing' ' Machine-op-inspct' ' Tech-support' ' ?'\n",
      " ' Protective-serv' ' Armed-Forces' ' Priv-house-serv']\n",
      "________________________________________________________________________________\n",
      "relationship:\n",
      "\n",
      "[' Not-in-family' ' Husband' ' Wife' ' Own-child' ' Unmarried'\n",
      " ' Other-relative']\n",
      "________________________________________________________________________________\n",
      "race:\n",
      "\n",
      "[' White' ' Black' ' Asian-Pac-Islander' ' Amer-Indian-Eskimo' ' Other']\n",
      "________________________________________________________________________________\n",
      "sex:\n",
      "\n",
      "[' Male' ' Female']\n",
      "________________________________________________________________________________\n",
      "capital_gain:\n",
      "\n",
      "[ 2174     0 14084  5178  5013  2407 14344 15024  7688 34095  4064  4386\n",
      "  7298  1409  3674  1055  3464  2050  2176   594 20051  6849  4101  1111\n",
      "  8614  3411  2597 25236  4650  9386  2463  3103 10605  2964  3325  2580\n",
      "  3471  4865 99999  6514  1471  2329  2105  2885 25124 10520  2202  2961\n",
      " 27828  6767  2228  1506 13550  2635  5556  4787  3781  3137  3818  3942\n",
      "   914   401  2829  2977  4934  2062  2354  5455 15020  1424  3273 22040\n",
      "  4416  3908 10566   991  4931  1086  7430  6497   114  7896  2346  3418\n",
      "  3432  2907  1151  2414  2290 15831 41310  4508  2538  3456  6418  1848\n",
      "  3887  5721  9562  1455  2036  1831 11678  2936  2993  7443  6360  1797\n",
      "  1173  4687  6723  2009  6097  2653  1639 18481  7978  2387  5060]\n",
      "________________________________________________________________________________\n",
      "capital_loss:\n",
      "\n",
      "[   0 2042 1408 1902 1573 1887 1719 1762 1564 2179 1816 1980 1977 1876\n",
      " 1340 2206 1741 1485 2339 2415 1380 1721 2051 2377 1669 2352 1672  653\n",
      " 2392 1504 2001 1590 1651 1628 1848 1740 2002 1579 2258 1602  419 2547\n",
      " 2174 2205 1726 2444 1138 2238  625  213 1539  880 1668 1092 1594 3004\n",
      " 2231 1844  810 2824 2559 2057 1974  974 2149 1825 1735 1258 2129 2603\n",
      " 2282  323 4356 2246 1617 1648 2489 3770 1755 3683 2267 2080 2457  155\n",
      " 3900 2201 1944 2467 2163 2754 2472 1411]\n",
      "________________________________________________________________________________\n",
      "working_hours_per_week:\n",
      "\n",
      "[40 13 16 45 50 80 30 35 60 20 52 44 15 25 38 43 55 48 58 32 70  2 22 56\n",
      " 41 28 36 24 46 42 12 65  1 10 34 75 98 33 54  8  6 64 19 18 72  5  9 47\n",
      " 37 21 26 14  4 59  7 99 53 39 62 57 78 90 66 11 49 84  3 17 68 27 85 31\n",
      " 51 77 63 23 87 88 73 89 97 94 29 96 67 82 86 91 81 76 92 61 74 95]\n",
      "________________________________________________________________________________\n",
      "native_country:\n",
      "\n",
      "[' United-States' ' Cuba' ' Jamaica' ' India' ' ?' ' Mexico' ' South'\n",
      " ' Puerto-Rico' ' Honduras' ' England' ' Canada' ' Germany' ' Iran'\n",
      " ' Philippines' ' Italy' ' Poland' ' Columbia' ' Cambodia' ' Thailand'\n",
      " ' Ecuador' ' Laos' ' Taiwan' ' Haiti' ' Portugal' ' Dominican-Republic'\n",
      " ' El-Salvador' ' France' ' Guatemala' ' China' ' Japan' ' Yugoslavia'\n",
      " ' Peru' ' Outlying-US(Guam-USVI-etc)' ' Scotland' ' Trinadad&Tobago'\n",
      " ' Greece' ' Nicaragua' ' Vietnam' ' Hong' ' Ireland' ' Hungary'\n",
      " ' Holand-Netherlands']\n",
      "________________________________________________________________________________\n",
      "salary:\n",
      "\n",
      "[' <=50K' ' >50K']\n",
      "________________________________________________________________________________\n"
     ]
    }
   ],
   "source": [
    "# checking the unique values in the columns\n",
    "for col in df.columns:\n",
    "    print(f'{col}:\\n')\n",
    "    print(df[col].unique())\n",
    "    print('_' * 80)"
   ]
  },
  {
   "cell_type": "markdown",
   "id": "45828235",
   "metadata": {},
   "source": [
    "**Observations:**\n",
    "- All object type columns have a leading white space in the values\n",
    "- There are special characters (?) in the 'workclass', 'occupation', and 'native_country' columns. These would be converted to null\n",
    "- There are several versions of married which I would be standardizing to just 'Married'\n",
    "- Hong and South in the native_country column would be changed to China and South Korea respectively. Hong Kong is not a country."
   ]
  },
  {
   "cell_type": "code",
   "execution_count": 9,
   "id": "51907311",
   "metadata": {},
   "outputs": [],
   "source": [
    "# removing leading white spaces\n",
    "def remove_space(variable):\n",
    "    \"\"\"Function to remove leading space in an object type column \n",
    "    Args:\n",
    "        variable: values in a specified column\n",
    "    Returns: values with the leading space removed\n",
    "        \n",
    "    \"\"\"\n",
    "    if isinstance(variable, str): # checks if the value is a string\n",
    "        return variable.lstrip() # removes the space\n",
    "    else:\n",
    "        return variable # returns the variable if the value is not a string\n",
    "    \n",
    "df = df.applymap(remove_space) # applying the function to all values of the dataframe"
   ]
  },
  {
   "cell_type": "code",
   "execution_count": 10,
   "id": "a6c6a4fb",
   "metadata": {},
   "outputs": [],
   "source": [
    "# converting question marks to null values\n",
    "df.replace('?', pd.NA, inplace=True)"
   ]
  },
  {
   "cell_type": "code",
   "execution_count": 11,
   "id": "0e3464e4",
   "metadata": {},
   "outputs": [],
   "source": [
    "# standardizing the married values\n",
    "mar_val = {'Married-civ-spouse':'Married', 'Married-spouse-absent':'Married', 'Married-AF-spouse':'Married'}\n",
    "df['marital_status'].replace(mar_val, inplace=True)"
   ]
  },
  {
   "cell_type": "code",
   "execution_count": 12,
   "id": "62d26f0a",
   "metadata": {
    "scrolled": true
   },
   "outputs": [
    {
     "name": "stdout",
     "output_type": "stream",
     "text": [
      "Hong:\n",
      "\n",
      "Asian-Pac-Islander    17\n",
      "White                  2\n",
      "Amer-Indian-Eskimo     1\n",
      "Name: race, dtype: int64\n",
      "__________________________________________________\n",
      "\n",
      "South\n",
      "\n",
      "Asian-Pac-Islander    77\n",
      "Amer-Indian-Eskimo     2\n",
      "White                  1\n",
      "Name: race, dtype: int64\n"
     ]
    }
   ],
   "source": [
    "# confirming the race of Hong and South to be Asian\n",
    "print('Hong:\\n')\n",
    "print(df[df['native_country']=='Hong']['race'].value_counts())\n",
    "print('_' * 50)\n",
    "print('\\nSouth\\n')\n",
    "print(df[df['native_country']=='South']['race'].value_counts())"
   ]
  },
  {
   "cell_type": "code",
   "execution_count": 13,
   "id": "b0d0e0a9",
   "metadata": {},
   "outputs": [],
   "source": [
    "# changing Hong to Hong Kong and South to South Korea\n",
    "nat_cont = {'Hong':'Hong-Kong', 'South':'South-Korea'}\n",
    "df['native_country'].replace(nat_cont, inplace=True)"
   ]
  },
  {
   "cell_type": "code",
   "execution_count": 14,
   "id": "7e9bab84",
   "metadata": {},
   "outputs": [
    {
     "name": "stdout",
     "output_type": "stream",
     "text": [
      "age:\n",
      "\n",
      "[39 50 38 53 28 37 49 52 31 42 30 23 32 40 34 25 43 54 35 59 56 19 20 45\n",
      " 22 48 21 24 57 44 41 29 18 47 46 36 79 27 67 33 76 17 55 61 70 64 71 68\n",
      " 66 51 58 26 60 90 75 65 77 62 63 80 72 74 69 73 81 78 88 82 83 84 85 86\n",
      " 87]\n",
      "________________________________________________________________________________\n",
      "workclass:\n",
      "\n",
      "['State-gov' 'Self-emp-not-inc' 'Private' 'Federal-gov' 'Local-gov' <NA>\n",
      " 'Self-emp-inc' 'Without-pay' 'Never-worked']\n",
      "________________________________________________________________________________\n",
      "fnlwgt:\n",
      "\n",
      "[ 77516  83311 215646 ...  34066  84661 257302]\n",
      "________________________________________________________________________________\n",
      "education:\n",
      "\n",
      "['Bachelors' 'HS-grad' '11th' 'Masters' '9th' 'Some-college' 'Assoc-acdm'\n",
      " 'Assoc-voc' '7th-8th' 'Doctorate' 'Prof-school' '5th-6th' '10th'\n",
      " '1st-4th' 'Preschool' '12th']\n",
      "________________________________________________________________________________\n",
      "education_no_of_years:\n",
      "\n",
      "[13  9  7 14  5 10 12 11  4 16 15  3  6  2  1  8]\n",
      "________________________________________________________________________________\n",
      "marital_status:\n",
      "\n",
      "['Never-married' 'Married' 'Divorced' 'Separated' 'Widowed']\n",
      "________________________________________________________________________________\n",
      "occupation:\n",
      "\n",
      "['Adm-clerical' 'Exec-managerial' 'Handlers-cleaners' 'Prof-specialty'\n",
      " 'Other-service' 'Sales' 'Craft-repair' 'Transport-moving'\n",
      " 'Farming-fishing' 'Machine-op-inspct' 'Tech-support' <NA>\n",
      " 'Protective-serv' 'Armed-Forces' 'Priv-house-serv']\n",
      "________________________________________________________________________________\n",
      "relationship:\n",
      "\n",
      "['Not-in-family' 'Husband' 'Wife' 'Own-child' 'Unmarried' 'Other-relative']\n",
      "________________________________________________________________________________\n",
      "race:\n",
      "\n",
      "['White' 'Black' 'Asian-Pac-Islander' 'Amer-Indian-Eskimo' 'Other']\n",
      "________________________________________________________________________________\n",
      "sex:\n",
      "\n",
      "['Male' 'Female']\n",
      "________________________________________________________________________________\n",
      "capital_gain:\n",
      "\n",
      "[ 2174     0 14084  5178  5013  2407 14344 15024  7688 34095  4064  4386\n",
      "  7298  1409  3674  1055  3464  2050  2176   594 20051  6849  4101  1111\n",
      "  8614  3411  2597 25236  4650  9386  2463  3103 10605  2964  3325  2580\n",
      "  3471  4865 99999  6514  1471  2329  2105  2885 25124 10520  2202  2961\n",
      " 27828  6767  2228  1506 13550  2635  5556  4787  3781  3137  3818  3942\n",
      "   914   401  2829  2977  4934  2062  2354  5455 15020  1424  3273 22040\n",
      "  4416  3908 10566   991  4931  1086  7430  6497   114  7896  2346  3418\n",
      "  3432  2907  1151  2414  2290 15831 41310  4508  2538  3456  6418  1848\n",
      "  3887  5721  9562  1455  2036  1831 11678  2936  2993  7443  6360  1797\n",
      "  1173  4687  6723  2009  6097  2653  1639 18481  7978  2387  5060]\n",
      "________________________________________________________________________________\n",
      "capital_loss:\n",
      "\n",
      "[   0 2042 1408 1902 1573 1887 1719 1762 1564 2179 1816 1980 1977 1876\n",
      " 1340 2206 1741 1485 2339 2415 1380 1721 2051 2377 1669 2352 1672  653\n",
      " 2392 1504 2001 1590 1651 1628 1848 1740 2002 1579 2258 1602  419 2547\n",
      " 2174 2205 1726 2444 1138 2238  625  213 1539  880 1668 1092 1594 3004\n",
      " 2231 1844  810 2824 2559 2057 1974  974 2149 1825 1735 1258 2129 2603\n",
      " 2282  323 4356 2246 1617 1648 2489 3770 1755 3683 2267 2080 2457  155\n",
      " 3900 2201 1944 2467 2163 2754 2472 1411]\n",
      "________________________________________________________________________________\n",
      "working_hours_per_week:\n",
      "\n",
      "[40 13 16 45 50 80 30 35 60 20 52 44 15 25 38 43 55 48 58 32 70  2 22 56\n",
      " 41 28 36 24 46 42 12 65  1 10 34 75 98 33 54  8  6 64 19 18 72  5  9 47\n",
      " 37 21 26 14  4 59  7 99 53 39 62 57 78 90 66 11 49 84  3 17 68 27 85 31\n",
      " 51 77 63 23 87 88 73 89 97 94 29 96 67 82 86 91 81 76 92 61 74 95]\n",
      "________________________________________________________________________________\n",
      "native_country:\n",
      "\n",
      "['United-States' 'Cuba' 'Jamaica' 'India' <NA> 'Mexico' 'South-Korea'\n",
      " 'Puerto-Rico' 'Honduras' 'England' 'Canada' 'Germany' 'Iran'\n",
      " 'Philippines' 'Italy' 'Poland' 'Columbia' 'Cambodia' 'Thailand' 'Ecuador'\n",
      " 'Laos' 'Taiwan' 'Haiti' 'Portugal' 'Dominican-Republic' 'El-Salvador'\n",
      " 'France' 'Guatemala' 'China' 'Japan' 'Yugoslavia' 'Peru'\n",
      " 'Outlying-US(Guam-USVI-etc)' 'Scotland' 'Trinadad&Tobago' 'Greece'\n",
      " 'Nicaragua' 'Vietnam' 'Hong-Kong' 'Ireland' 'Hungary'\n",
      " 'Holand-Netherlands']\n",
      "________________________________________________________________________________\n",
      "salary:\n",
      "\n",
      "['<=50K' '>50K']\n",
      "________________________________________________________________________________\n"
     ]
    }
   ],
   "source": [
    "# quality check\n",
    "for col in df.columns:\n",
    "    print(f'{col}:\\n')\n",
    "    print(df[col].unique())\n",
    "    print('_' * 80)"
   ]
  },
  {
   "cell_type": "markdown",
   "id": "6d18e11a",
   "metadata": {},
   "source": [
    "- All leading spaces in the object type columns have been removed\n",
    "- All special characters (?) have been converted to null values\n",
    "- All versions of married have been standardized\n",
    "- Hong and South have been replaced with Hong-Kong and South-Korea respectively"
   ]
  },
  {
   "cell_type": "code",
   "execution_count": 15,
   "id": "4092b57b",
   "metadata": {},
   "outputs": [
    {
     "name": "stdout",
     "output_type": "stream",
     "text": [
      "<class 'pandas.core.frame.DataFrame'>\n",
      "RangeIndex: 32537 entries, 0 to 32536\n",
      "Data columns (total 15 columns):\n",
      " #   Column                  Non-Null Count  Dtype \n",
      "---  ------                  --------------  ----- \n",
      " 0   age                     32537 non-null  int64 \n",
      " 1   workclass               30701 non-null  object\n",
      " 2   fnlwgt                  32537 non-null  int64 \n",
      " 3   education               32537 non-null  object\n",
      " 4   education_no_of_years   32537 non-null  int64 \n",
      " 5   marital_status          32537 non-null  object\n",
      " 6   occupation              30694 non-null  object\n",
      " 7   relationship            32537 non-null  object\n",
      " 8   race                    32537 non-null  object\n",
      " 9   sex                     32537 non-null  object\n",
      " 10  capital_gain            32537 non-null  int64 \n",
      " 11  capital_loss            32537 non-null  int64 \n",
      " 12  working_hours_per_week  32537 non-null  int64 \n",
      " 13  native_country          31955 non-null  object\n",
      " 14  salary                  32537 non-null  object\n",
      "dtypes: int64(6), object(9)\n",
      "memory usage: 3.7+ MB\n"
     ]
    }
   ],
   "source": [
    "# summary of the dataset\n",
    "df.info()"
   ]
  },
  {
   "cell_type": "markdown",
   "id": "0922d57f",
   "metadata": {},
   "source": [
    "**Observations:**\n",
    "- All data types have been cast accurately. There are 6 integer type columns and 9 object type columns\n",
    "- age, fnlwgt, education_no_of_years, capital_gain, capital_loss, working_hours_per_week are integers\n",
    "- workclass, education, marital_status, occupation, relationship, race, sex, native_country and salary are objects.\n",
    "- There are null values in the workclass, occupation and native_country columns"
   ]
  },
  {
   "cell_type": "markdown",
   "id": "ff5a09d3",
   "metadata": {},
   "source": [
    "#### Treating the null values"
   ]
  },
  {
   "cell_type": "code",
   "execution_count": 16,
   "id": "86c99ae1",
   "metadata": {},
   "outputs": [
    {
     "data": {
      "text/plain": [
       "age                          0\n",
       "workclass                 1836\n",
       "fnlwgt                       0\n",
       "education                    0\n",
       "education_no_of_years        0\n",
       "marital_status               0\n",
       "occupation                1843\n",
       "relationship                 0\n",
       "race                         0\n",
       "sex                          0\n",
       "capital_gain                 0\n",
       "capital_loss                 0\n",
       "working_hours_per_week       0\n",
       "native_country             582\n",
       "salary                       0\n",
       "dtype: int64"
      ]
     },
     "execution_count": 16,
     "metadata": {},
     "output_type": "execute_result"
    }
   ],
   "source": [
    "# checking for the null values\n",
    "df.isnull().sum()"
   ]
  },
  {
   "cell_type": "markdown",
   "id": "17bb7ece",
   "metadata": {},
   "source": [
    " - There are null values in the **workclass (1836)**, **occupation (1843)** and **native_country (582)** columns"
   ]
  },
  {
   "cell_type": "markdown",
   "id": "56fcff82",
   "metadata": {},
   "source": [
    "#### Workclass column"
   ]
  },
  {
   "cell_type": "code",
   "execution_count": 17,
   "id": "ebfe56f7",
   "metadata": {},
   "outputs": [
    {
     "data": {
      "text/html": [
       "<div>\n",
       "<style scoped>\n",
       "    .dataframe tbody tr th:only-of-type {\n",
       "        vertical-align: middle;\n",
       "    }\n",
       "\n",
       "    .dataframe tbody tr th {\n",
       "        vertical-align: top;\n",
       "    }\n",
       "\n",
       "    .dataframe thead th {\n",
       "        text-align: right;\n",
       "    }\n",
       "</style>\n",
       "<table border=\"1\" class=\"dataframe\">\n",
       "  <thead>\n",
       "    <tr style=\"text-align: right;\">\n",
       "      <th></th>\n",
       "      <th>age</th>\n",
       "      <th>workclass</th>\n",
       "      <th>fnlwgt</th>\n",
       "      <th>education</th>\n",
       "      <th>education_no_of_years</th>\n",
       "      <th>marital_status</th>\n",
       "      <th>occupation</th>\n",
       "      <th>relationship</th>\n",
       "      <th>race</th>\n",
       "      <th>sex</th>\n",
       "      <th>capital_gain</th>\n",
       "      <th>capital_loss</th>\n",
       "      <th>working_hours_per_week</th>\n",
       "      <th>native_country</th>\n",
       "      <th>salary</th>\n",
       "    </tr>\n",
       "  </thead>\n",
       "  <tbody>\n",
       "    <tr>\n",
       "      <th>3146</th>\n",
       "      <td>32</td>\n",
       "      <td>&lt;NA&gt;</td>\n",
       "      <td>199244</td>\n",
       "      <td>10th</td>\n",
       "      <td>6</td>\n",
       "      <td>Divorced</td>\n",
       "      <td>&lt;NA&gt;</td>\n",
       "      <td>Not-in-family</td>\n",
       "      <td>White</td>\n",
       "      <td>Female</td>\n",
       "      <td>0</td>\n",
       "      <td>0</td>\n",
       "      <td>40</td>\n",
       "      <td>United-States</td>\n",
       "      <td>&lt;=50K</td>\n",
       "    </tr>\n",
       "    <tr>\n",
       "      <th>28529</th>\n",
       "      <td>68</td>\n",
       "      <td>&lt;NA&gt;</td>\n",
       "      <td>186266</td>\n",
       "      <td>HS-grad</td>\n",
       "      <td>9</td>\n",
       "      <td>Married</td>\n",
       "      <td>&lt;NA&gt;</td>\n",
       "      <td>Wife</td>\n",
       "      <td>White</td>\n",
       "      <td>Female</td>\n",
       "      <td>0</td>\n",
       "      <td>0</td>\n",
       "      <td>8</td>\n",
       "      <td>United-States</td>\n",
       "      <td>&lt;=50K</td>\n",
       "    </tr>\n",
       "    <tr>\n",
       "      <th>31072</th>\n",
       "      <td>17</td>\n",
       "      <td>&lt;NA&gt;</td>\n",
       "      <td>172145</td>\n",
       "      <td>10th</td>\n",
       "      <td>6</td>\n",
       "      <td>Never-married</td>\n",
       "      <td>&lt;NA&gt;</td>\n",
       "      <td>Own-child</td>\n",
       "      <td>Black</td>\n",
       "      <td>Female</td>\n",
       "      <td>0</td>\n",
       "      <td>0</td>\n",
       "      <td>40</td>\n",
       "      <td>United-States</td>\n",
       "      <td>&lt;=50K</td>\n",
       "    </tr>\n",
       "    <tr>\n",
       "      <th>22487</th>\n",
       "      <td>19</td>\n",
       "      <td>&lt;NA&gt;</td>\n",
       "      <td>182590</td>\n",
       "      <td>10th</td>\n",
       "      <td>6</td>\n",
       "      <td>Never-married</td>\n",
       "      <td>&lt;NA&gt;</td>\n",
       "      <td>Not-in-family</td>\n",
       "      <td>White</td>\n",
       "      <td>Female</td>\n",
       "      <td>0</td>\n",
       "      <td>0</td>\n",
       "      <td>38</td>\n",
       "      <td>United-States</td>\n",
       "      <td>&lt;=50K</td>\n",
       "    </tr>\n",
       "    <tr>\n",
       "      <th>1458</th>\n",
       "      <td>76</td>\n",
       "      <td>&lt;NA&gt;</td>\n",
       "      <td>211453</td>\n",
       "      <td>HS-grad</td>\n",
       "      <td>9</td>\n",
       "      <td>Widowed</td>\n",
       "      <td>&lt;NA&gt;</td>\n",
       "      <td>Not-in-family</td>\n",
       "      <td>Black</td>\n",
       "      <td>Female</td>\n",
       "      <td>0</td>\n",
       "      <td>0</td>\n",
       "      <td>2</td>\n",
       "      <td>United-States</td>\n",
       "      <td>&lt;=50K</td>\n",
       "    </tr>\n",
       "    <tr>\n",
       "      <th>5344</th>\n",
       "      <td>20</td>\n",
       "      <td>&lt;NA&gt;</td>\n",
       "      <td>432376</td>\n",
       "      <td>Some-college</td>\n",
       "      <td>10</td>\n",
       "      <td>Never-married</td>\n",
       "      <td>&lt;NA&gt;</td>\n",
       "      <td>Own-child</td>\n",
       "      <td>White</td>\n",
       "      <td>Male</td>\n",
       "      <td>0</td>\n",
       "      <td>0</td>\n",
       "      <td>40</td>\n",
       "      <td>Germany</td>\n",
       "      <td>&lt;=50K</td>\n",
       "    </tr>\n",
       "    <tr>\n",
       "      <th>12854</th>\n",
       "      <td>20</td>\n",
       "      <td>&lt;NA&gt;</td>\n",
       "      <td>150084</td>\n",
       "      <td>HS-grad</td>\n",
       "      <td>9</td>\n",
       "      <td>Never-married</td>\n",
       "      <td>&lt;NA&gt;</td>\n",
       "      <td>Own-child</td>\n",
       "      <td>White</td>\n",
       "      <td>Male</td>\n",
       "      <td>0</td>\n",
       "      <td>0</td>\n",
       "      <td>25</td>\n",
       "      <td>United-States</td>\n",
       "      <td>&lt;=50K</td>\n",
       "    </tr>\n",
       "    <tr>\n",
       "      <th>2152</th>\n",
       "      <td>21</td>\n",
       "      <td>&lt;NA&gt;</td>\n",
       "      <td>300812</td>\n",
       "      <td>Some-college</td>\n",
       "      <td>10</td>\n",
       "      <td>Never-married</td>\n",
       "      <td>&lt;NA&gt;</td>\n",
       "      <td>Own-child</td>\n",
       "      <td>White</td>\n",
       "      <td>Male</td>\n",
       "      <td>0</td>\n",
       "      <td>0</td>\n",
       "      <td>30</td>\n",
       "      <td>United-States</td>\n",
       "      <td>&lt;=50K</td>\n",
       "    </tr>\n",
       "    <tr>\n",
       "      <th>7661</th>\n",
       "      <td>17</td>\n",
       "      <td>&lt;NA&gt;</td>\n",
       "      <td>659273</td>\n",
       "      <td>11th</td>\n",
       "      <td>7</td>\n",
       "      <td>Never-married</td>\n",
       "      <td>&lt;NA&gt;</td>\n",
       "      <td>Own-child</td>\n",
       "      <td>Black</td>\n",
       "      <td>Female</td>\n",
       "      <td>0</td>\n",
       "      <td>0</td>\n",
       "      <td>40</td>\n",
       "      <td>Trinadad&amp;Tobago</td>\n",
       "      <td>&lt;=50K</td>\n",
       "    </tr>\n",
       "    <tr>\n",
       "      <th>17895</th>\n",
       "      <td>67</td>\n",
       "      <td>&lt;NA&gt;</td>\n",
       "      <td>63552</td>\n",
       "      <td>7th-8th</td>\n",
       "      <td>4</td>\n",
       "      <td>Widowed</td>\n",
       "      <td>&lt;NA&gt;</td>\n",
       "      <td>Not-in-family</td>\n",
       "      <td>White</td>\n",
       "      <td>Female</td>\n",
       "      <td>0</td>\n",
       "      <td>0</td>\n",
       "      <td>35</td>\n",
       "      <td>United-States</td>\n",
       "      <td>&lt;=50K</td>\n",
       "    </tr>\n",
       "  </tbody>\n",
       "</table>\n",
       "</div>"
      ],
      "text/plain": [
       "       age workclass  fnlwgt     education  education_no_of_years  \\\n",
       "3146    32      <NA>  199244          10th                      6   \n",
       "28529   68      <NA>  186266       HS-grad                      9   \n",
       "31072   17      <NA>  172145          10th                      6   \n",
       "22487   19      <NA>  182590          10th                      6   \n",
       "1458    76      <NA>  211453       HS-grad                      9   \n",
       "5344    20      <NA>  432376  Some-college                     10   \n",
       "12854   20      <NA>  150084       HS-grad                      9   \n",
       "2152    21      <NA>  300812  Some-college                     10   \n",
       "7661    17      <NA>  659273          11th                      7   \n",
       "17895   67      <NA>   63552       7th-8th                      4   \n",
       "\n",
       "      marital_status occupation   relationship   race     sex  capital_gain  \\\n",
       "3146        Divorced       <NA>  Not-in-family  White  Female             0   \n",
       "28529        Married       <NA>           Wife  White  Female             0   \n",
       "31072  Never-married       <NA>      Own-child  Black  Female             0   \n",
       "22487  Never-married       <NA>  Not-in-family  White  Female             0   \n",
       "1458         Widowed       <NA>  Not-in-family  Black  Female             0   \n",
       "5344   Never-married       <NA>      Own-child  White    Male             0   \n",
       "12854  Never-married       <NA>      Own-child  White    Male             0   \n",
       "2152   Never-married       <NA>      Own-child  White    Male             0   \n",
       "7661   Never-married       <NA>      Own-child  Black  Female             0   \n",
       "17895        Widowed       <NA>  Not-in-family  White  Female             0   \n",
       "\n",
       "       capital_loss  working_hours_per_week   native_country salary  \n",
       "3146              0                      40    United-States  <=50K  \n",
       "28529             0                       8    United-States  <=50K  \n",
       "31072             0                      40    United-States  <=50K  \n",
       "22487             0                      38    United-States  <=50K  \n",
       "1458              0                       2    United-States  <=50K  \n",
       "5344              0                      40          Germany  <=50K  \n",
       "12854             0                      25    United-States  <=50K  \n",
       "2152              0                      30    United-States  <=50K  \n",
       "7661              0                      40  Trinadad&Tobago  <=50K  \n",
       "17895             0                      35    United-States  <=50K  "
      ]
     },
     "execution_count": 17,
     "metadata": {},
     "output_type": "execute_result"
    }
   ],
   "source": [
    "# checking the null values in the workclass column\n",
    "df[df['workclass'].isnull()].sample(10)"
   ]
  },
  {
   "cell_type": "markdown",
   "id": "1ddc6a9a",
   "metadata": {},
   "source": [
    "- It seems to be the case that most of the rows where workclass has null values, also shows null values in the occupation column. As it is difficult to infer a person's workclass, especially when occupation is unknown, I would be dropping these values."
   ]
  },
  {
   "cell_type": "code",
   "execution_count": 18,
   "id": "fa153e79",
   "metadata": {},
   "outputs": [],
   "source": [
    "# dropping null values in the workclass column\n",
    "df.dropna(subset=['workclass'], inplace=True)"
   ]
  },
  {
   "cell_type": "markdown",
   "id": "259b5da4",
   "metadata": {},
   "source": [
    "#### Occupation column"
   ]
  },
  {
   "cell_type": "code",
   "execution_count": 19,
   "id": "508f29c4",
   "metadata": {
    "scrolled": false
   },
   "outputs": [
    {
     "data": {
      "text/html": [
       "<div>\n",
       "<style scoped>\n",
       "    .dataframe tbody tr th:only-of-type {\n",
       "        vertical-align: middle;\n",
       "    }\n",
       "\n",
       "    .dataframe tbody tr th {\n",
       "        vertical-align: top;\n",
       "    }\n",
       "\n",
       "    .dataframe thead th {\n",
       "        text-align: right;\n",
       "    }\n",
       "</style>\n",
       "<table border=\"1\" class=\"dataframe\">\n",
       "  <thead>\n",
       "    <tr style=\"text-align: right;\">\n",
       "      <th></th>\n",
       "      <th>age</th>\n",
       "      <th>workclass</th>\n",
       "      <th>fnlwgt</th>\n",
       "      <th>education</th>\n",
       "      <th>education_no_of_years</th>\n",
       "      <th>marital_status</th>\n",
       "      <th>occupation</th>\n",
       "      <th>relationship</th>\n",
       "      <th>race</th>\n",
       "      <th>sex</th>\n",
       "      <th>capital_gain</th>\n",
       "      <th>capital_loss</th>\n",
       "      <th>working_hours_per_week</th>\n",
       "      <th>native_country</th>\n",
       "      <th>salary</th>\n",
       "    </tr>\n",
       "  </thead>\n",
       "  <tbody>\n",
       "    <tr>\n",
       "      <th>5359</th>\n",
       "      <td>18</td>\n",
       "      <td>Never-worked</td>\n",
       "      <td>206359</td>\n",
       "      <td>10th</td>\n",
       "      <td>6</td>\n",
       "      <td>Never-married</td>\n",
       "      <td>&lt;NA&gt;</td>\n",
       "      <td>Own-child</td>\n",
       "      <td>White</td>\n",
       "      <td>Male</td>\n",
       "      <td>0</td>\n",
       "      <td>0</td>\n",
       "      <td>40</td>\n",
       "      <td>United-States</td>\n",
       "      <td>&lt;=50K</td>\n",
       "    </tr>\n",
       "    <tr>\n",
       "      <th>10842</th>\n",
       "      <td>23</td>\n",
       "      <td>Never-worked</td>\n",
       "      <td>188535</td>\n",
       "      <td>7th-8th</td>\n",
       "      <td>4</td>\n",
       "      <td>Divorced</td>\n",
       "      <td>&lt;NA&gt;</td>\n",
       "      <td>Not-in-family</td>\n",
       "      <td>White</td>\n",
       "      <td>Male</td>\n",
       "      <td>0</td>\n",
       "      <td>0</td>\n",
       "      <td>35</td>\n",
       "      <td>United-States</td>\n",
       "      <td>&lt;=50K</td>\n",
       "    </tr>\n",
       "    <tr>\n",
       "      <th>14767</th>\n",
       "      <td>17</td>\n",
       "      <td>Never-worked</td>\n",
       "      <td>237272</td>\n",
       "      <td>10th</td>\n",
       "      <td>6</td>\n",
       "      <td>Never-married</td>\n",
       "      <td>&lt;NA&gt;</td>\n",
       "      <td>Own-child</td>\n",
       "      <td>White</td>\n",
       "      <td>Male</td>\n",
       "      <td>0</td>\n",
       "      <td>0</td>\n",
       "      <td>30</td>\n",
       "      <td>United-States</td>\n",
       "      <td>&lt;=50K</td>\n",
       "    </tr>\n",
       "    <tr>\n",
       "      <th>20328</th>\n",
       "      <td>18</td>\n",
       "      <td>Never-worked</td>\n",
       "      <td>157131</td>\n",
       "      <td>11th</td>\n",
       "      <td>7</td>\n",
       "      <td>Never-married</td>\n",
       "      <td>&lt;NA&gt;</td>\n",
       "      <td>Own-child</td>\n",
       "      <td>White</td>\n",
       "      <td>Female</td>\n",
       "      <td>0</td>\n",
       "      <td>0</td>\n",
       "      <td>10</td>\n",
       "      <td>United-States</td>\n",
       "      <td>&lt;=50K</td>\n",
       "    </tr>\n",
       "    <tr>\n",
       "      <th>23217</th>\n",
       "      <td>20</td>\n",
       "      <td>Never-worked</td>\n",
       "      <td>462294</td>\n",
       "      <td>Some-college</td>\n",
       "      <td>10</td>\n",
       "      <td>Never-married</td>\n",
       "      <td>&lt;NA&gt;</td>\n",
       "      <td>Own-child</td>\n",
       "      <td>Black</td>\n",
       "      <td>Male</td>\n",
       "      <td>0</td>\n",
       "      <td>0</td>\n",
       "      <td>40</td>\n",
       "      <td>United-States</td>\n",
       "      <td>&lt;=50K</td>\n",
       "    </tr>\n",
       "    <tr>\n",
       "      <th>32281</th>\n",
       "      <td>30</td>\n",
       "      <td>Never-worked</td>\n",
       "      <td>176673</td>\n",
       "      <td>HS-grad</td>\n",
       "      <td>9</td>\n",
       "      <td>Married</td>\n",
       "      <td>&lt;NA&gt;</td>\n",
       "      <td>Wife</td>\n",
       "      <td>Black</td>\n",
       "      <td>Female</td>\n",
       "      <td>0</td>\n",
       "      <td>0</td>\n",
       "      <td>40</td>\n",
       "      <td>United-States</td>\n",
       "      <td>&lt;=50K</td>\n",
       "    </tr>\n",
       "    <tr>\n",
       "      <th>32291</th>\n",
       "      <td>18</td>\n",
       "      <td>Never-worked</td>\n",
       "      <td>153663</td>\n",
       "      <td>Some-college</td>\n",
       "      <td>10</td>\n",
       "      <td>Never-married</td>\n",
       "      <td>&lt;NA&gt;</td>\n",
       "      <td>Own-child</td>\n",
       "      <td>White</td>\n",
       "      <td>Male</td>\n",
       "      <td>0</td>\n",
       "      <td>0</td>\n",
       "      <td>4</td>\n",
       "      <td>United-States</td>\n",
       "      <td>&lt;=50K</td>\n",
       "    </tr>\n",
       "  </tbody>\n",
       "</table>\n",
       "</div>"
      ],
      "text/plain": [
       "       age     workclass  fnlwgt     education  education_no_of_years  \\\n",
       "5359    18  Never-worked  206359          10th                      6   \n",
       "10842   23  Never-worked  188535       7th-8th                      4   \n",
       "14767   17  Never-worked  237272          10th                      6   \n",
       "20328   18  Never-worked  157131          11th                      7   \n",
       "23217   20  Never-worked  462294  Some-college                     10   \n",
       "32281   30  Never-worked  176673       HS-grad                      9   \n",
       "32291   18  Never-worked  153663  Some-college                     10   \n",
       "\n",
       "      marital_status occupation   relationship   race     sex  capital_gain  \\\n",
       "5359   Never-married       <NA>      Own-child  White    Male             0   \n",
       "10842       Divorced       <NA>  Not-in-family  White    Male             0   \n",
       "14767  Never-married       <NA>      Own-child  White    Male             0   \n",
       "20328  Never-married       <NA>      Own-child  White  Female             0   \n",
       "23217  Never-married       <NA>      Own-child  Black    Male             0   \n",
       "32281        Married       <NA>           Wife  Black  Female             0   \n",
       "32291  Never-married       <NA>      Own-child  White    Male             0   \n",
       "\n",
       "       capital_loss  working_hours_per_week native_country salary  \n",
       "5359              0                      40  United-States  <=50K  \n",
       "10842             0                      35  United-States  <=50K  \n",
       "14767             0                      30  United-States  <=50K  \n",
       "20328             0                      10  United-States  <=50K  \n",
       "23217             0                      40  United-States  <=50K  \n",
       "32281             0                      40  United-States  <=50K  \n",
       "32291             0                       4  United-States  <=50K  "
      ]
     },
     "execution_count": 19,
     "metadata": {},
     "output_type": "execute_result"
    }
   ],
   "source": [
    "# checking the null values in the occupation column\n",
    "df[df['occupation'].isnull()]"
   ]
  },
  {
   "cell_type": "markdown",
   "id": "0c500c60",
   "metadata": {},
   "source": [
    "- It seems to be the case that the rows where occupation has null values are rows where the values of the workclass column is 'Never-worked'. I would be changing these values to 'Unemployed'."
   ]
  },
  {
   "cell_type": "code",
   "execution_count": 20,
   "id": "1ec3d4b3",
   "metadata": {},
   "outputs": [],
   "source": [
    "# replacing the null values in the occupation column with unemployed\n",
    "df['occupation'].fillna('Unemployed', inplace=True)"
   ]
  },
  {
   "cell_type": "code",
   "execution_count": 21,
   "id": "6fe6a737",
   "metadata": {},
   "outputs": [
    {
     "data": {
      "text/plain": [
       "Prof-specialty       4136\n",
       "Craft-repair         4094\n",
       "Exec-managerial      4065\n",
       "Adm-clerical         3768\n",
       "Sales                3650\n",
       "Other-service        3291\n",
       "Machine-op-inspct    2000\n",
       "Transport-moving     1597\n",
       "Handlers-cleaners    1369\n",
       "Farming-fishing       992\n",
       "Tech-support          927\n",
       "Protective-serv       649\n",
       "Priv-house-serv       147\n",
       "Armed-Forces            9\n",
       "Unemployed              7\n",
       "Name: occupation, dtype: int64"
      ]
     },
     "execution_count": 21,
     "metadata": {},
     "output_type": "execute_result"
    }
   ],
   "source": [
    "# quality check\n",
    "df['occupation'].value_counts()"
   ]
  },
  {
   "cell_type": "markdown",
   "id": "c5fa46fe",
   "metadata": {},
   "source": [
    "#### Native_country column"
   ]
  },
  {
   "cell_type": "code",
   "execution_count": 22,
   "id": "f7e28d83",
   "metadata": {},
   "outputs": [
    {
     "data": {
      "text/html": [
       "<div>\n",
       "<style scoped>\n",
       "    .dataframe tbody tr th:only-of-type {\n",
       "        vertical-align: middle;\n",
       "    }\n",
       "\n",
       "    .dataframe tbody tr th {\n",
       "        vertical-align: top;\n",
       "    }\n",
       "\n",
       "    .dataframe thead th {\n",
       "        text-align: right;\n",
       "    }\n",
       "</style>\n",
       "<table border=\"1\" class=\"dataframe\">\n",
       "  <thead>\n",
       "    <tr style=\"text-align: right;\">\n",
       "      <th></th>\n",
       "      <th>age</th>\n",
       "      <th>workclass</th>\n",
       "      <th>fnlwgt</th>\n",
       "      <th>education</th>\n",
       "      <th>education_no_of_years</th>\n",
       "      <th>marital_status</th>\n",
       "      <th>occupation</th>\n",
       "      <th>relationship</th>\n",
       "      <th>race</th>\n",
       "      <th>sex</th>\n",
       "      <th>capital_gain</th>\n",
       "      <th>capital_loss</th>\n",
       "      <th>working_hours_per_week</th>\n",
       "      <th>native_country</th>\n",
       "      <th>salary</th>\n",
       "    </tr>\n",
       "  </thead>\n",
       "  <tbody>\n",
       "    <tr>\n",
       "      <th>19028</th>\n",
       "      <td>39</td>\n",
       "      <td>Private</td>\n",
       "      <td>144608</td>\n",
       "      <td>Bachelors</td>\n",
       "      <td>13</td>\n",
       "      <td>Never-married</td>\n",
       "      <td>Prof-specialty</td>\n",
       "      <td>Not-in-family</td>\n",
       "      <td>White</td>\n",
       "      <td>Male</td>\n",
       "      <td>0</td>\n",
       "      <td>0</td>\n",
       "      <td>40</td>\n",
       "      <td>&lt;NA&gt;</td>\n",
       "      <td>&gt;50K</td>\n",
       "    </tr>\n",
       "    <tr>\n",
       "      <th>28179</th>\n",
       "      <td>32</td>\n",
       "      <td>Private</td>\n",
       "      <td>201988</td>\n",
       "      <td>Prof-school</td>\n",
       "      <td>15</td>\n",
       "      <td>Married</td>\n",
       "      <td>Sales</td>\n",
       "      <td>Husband</td>\n",
       "      <td>White</td>\n",
       "      <td>Male</td>\n",
       "      <td>4508</td>\n",
       "      <td>0</td>\n",
       "      <td>40</td>\n",
       "      <td>&lt;NA&gt;</td>\n",
       "      <td>&lt;=50K</td>\n",
       "    </tr>\n",
       "    <tr>\n",
       "      <th>12000</th>\n",
       "      <td>46</td>\n",
       "      <td>Private</td>\n",
       "      <td>113806</td>\n",
       "      <td>12th</td>\n",
       "      <td>8</td>\n",
       "      <td>Married</td>\n",
       "      <td>Craft-repair</td>\n",
       "      <td>Husband</td>\n",
       "      <td>White</td>\n",
       "      <td>Male</td>\n",
       "      <td>7298</td>\n",
       "      <td>0</td>\n",
       "      <td>40</td>\n",
       "      <td>&lt;NA&gt;</td>\n",
       "      <td>&gt;50K</td>\n",
       "    </tr>\n",
       "    <tr>\n",
       "      <th>21383</th>\n",
       "      <td>37</td>\n",
       "      <td>Self-emp-not-inc</td>\n",
       "      <td>187411</td>\n",
       "      <td>Bachelors</td>\n",
       "      <td>13</td>\n",
       "      <td>Married</td>\n",
       "      <td>Transport-moving</td>\n",
       "      <td>Husband</td>\n",
       "      <td>White</td>\n",
       "      <td>Male</td>\n",
       "      <td>0</td>\n",
       "      <td>0</td>\n",
       "      <td>50</td>\n",
       "      <td>&lt;NA&gt;</td>\n",
       "      <td>&lt;=50K</td>\n",
       "    </tr>\n",
       "    <tr>\n",
       "      <th>4578</th>\n",
       "      <td>48</td>\n",
       "      <td>Private</td>\n",
       "      <td>229846</td>\n",
       "      <td>Assoc-voc</td>\n",
       "      <td>11</td>\n",
       "      <td>Divorced</td>\n",
       "      <td>Other-service</td>\n",
       "      <td>Not-in-family</td>\n",
       "      <td>White</td>\n",
       "      <td>Female</td>\n",
       "      <td>0</td>\n",
       "      <td>0</td>\n",
       "      <td>40</td>\n",
       "      <td>&lt;NA&gt;</td>\n",
       "      <td>&lt;=50K</td>\n",
       "    </tr>\n",
       "    <tr>\n",
       "      <th>24908</th>\n",
       "      <td>68</td>\n",
       "      <td>Private</td>\n",
       "      <td>208478</td>\n",
       "      <td>Masters</td>\n",
       "      <td>14</td>\n",
       "      <td>Married</td>\n",
       "      <td>Prof-specialty</td>\n",
       "      <td>Husband</td>\n",
       "      <td>White</td>\n",
       "      <td>Male</td>\n",
       "      <td>0</td>\n",
       "      <td>0</td>\n",
       "      <td>18</td>\n",
       "      <td>&lt;NA&gt;</td>\n",
       "      <td>&lt;=50K</td>\n",
       "    </tr>\n",
       "    <tr>\n",
       "      <th>18577</th>\n",
       "      <td>29</td>\n",
       "      <td>Private</td>\n",
       "      <td>54411</td>\n",
       "      <td>HS-grad</td>\n",
       "      <td>9</td>\n",
       "      <td>Never-married</td>\n",
       "      <td>Farming-fishing</td>\n",
       "      <td>Not-in-family</td>\n",
       "      <td>White</td>\n",
       "      <td>Male</td>\n",
       "      <td>0</td>\n",
       "      <td>0</td>\n",
       "      <td>50</td>\n",
       "      <td>&lt;NA&gt;</td>\n",
       "      <td>&lt;=50K</td>\n",
       "    </tr>\n",
       "    <tr>\n",
       "      <th>18669</th>\n",
       "      <td>33</td>\n",
       "      <td>Private</td>\n",
       "      <td>160216</td>\n",
       "      <td>Masters</td>\n",
       "      <td>14</td>\n",
       "      <td>Never-married</td>\n",
       "      <td>Exec-managerial</td>\n",
       "      <td>Not-in-family</td>\n",
       "      <td>White</td>\n",
       "      <td>Female</td>\n",
       "      <td>0</td>\n",
       "      <td>0</td>\n",
       "      <td>32</td>\n",
       "      <td>&lt;NA&gt;</td>\n",
       "      <td>&lt;=50K</td>\n",
       "    </tr>\n",
       "    <tr>\n",
       "      <th>13892</th>\n",
       "      <td>24</td>\n",
       "      <td>Private</td>\n",
       "      <td>193920</td>\n",
       "      <td>Masters</td>\n",
       "      <td>14</td>\n",
       "      <td>Never-married</td>\n",
       "      <td>Priv-house-serv</td>\n",
       "      <td>Not-in-family</td>\n",
       "      <td>White</td>\n",
       "      <td>Female</td>\n",
       "      <td>0</td>\n",
       "      <td>0</td>\n",
       "      <td>45</td>\n",
       "      <td>&lt;NA&gt;</td>\n",
       "      <td>&lt;=50K</td>\n",
       "    </tr>\n",
       "    <tr>\n",
       "      <th>8363</th>\n",
       "      <td>34</td>\n",
       "      <td>Private</td>\n",
       "      <td>241360</td>\n",
       "      <td>HS-grad</td>\n",
       "      <td>9</td>\n",
       "      <td>Married</td>\n",
       "      <td>Prof-specialty</td>\n",
       "      <td>Husband</td>\n",
       "      <td>White</td>\n",
       "      <td>Male</td>\n",
       "      <td>0</td>\n",
       "      <td>0</td>\n",
       "      <td>40</td>\n",
       "      <td>&lt;NA&gt;</td>\n",
       "      <td>&lt;=50K</td>\n",
       "    </tr>\n",
       "  </tbody>\n",
       "</table>\n",
       "</div>"
      ],
      "text/plain": [
       "       age         workclass  fnlwgt    education  education_no_of_years  \\\n",
       "19028   39           Private  144608    Bachelors                     13   \n",
       "28179   32           Private  201988  Prof-school                     15   \n",
       "12000   46           Private  113806         12th                      8   \n",
       "21383   37  Self-emp-not-inc  187411    Bachelors                     13   \n",
       "4578    48           Private  229846    Assoc-voc                     11   \n",
       "24908   68           Private  208478      Masters                     14   \n",
       "18577   29           Private   54411      HS-grad                      9   \n",
       "18669   33           Private  160216      Masters                     14   \n",
       "13892   24           Private  193920      Masters                     14   \n",
       "8363    34           Private  241360      HS-grad                      9   \n",
       "\n",
       "      marital_status        occupation   relationship   race     sex  \\\n",
       "19028  Never-married    Prof-specialty  Not-in-family  White    Male   \n",
       "28179        Married             Sales        Husband  White    Male   \n",
       "12000        Married      Craft-repair        Husband  White    Male   \n",
       "21383        Married  Transport-moving        Husband  White    Male   \n",
       "4578        Divorced     Other-service  Not-in-family  White  Female   \n",
       "24908        Married    Prof-specialty        Husband  White    Male   \n",
       "18577  Never-married   Farming-fishing  Not-in-family  White    Male   \n",
       "18669  Never-married   Exec-managerial  Not-in-family  White  Female   \n",
       "13892  Never-married   Priv-house-serv  Not-in-family  White  Female   \n",
       "8363         Married    Prof-specialty        Husband  White    Male   \n",
       "\n",
       "       capital_gain  capital_loss  working_hours_per_week native_country  \\\n",
       "19028             0             0                      40           <NA>   \n",
       "28179          4508             0                      40           <NA>   \n",
       "12000          7298             0                      40           <NA>   \n",
       "21383             0             0                      50           <NA>   \n",
       "4578              0             0                      40           <NA>   \n",
       "24908             0             0                      18           <NA>   \n",
       "18577             0             0                      50           <NA>   \n",
       "18669             0             0                      32           <NA>   \n",
       "13892             0             0                      45           <NA>   \n",
       "8363              0             0                      40           <NA>   \n",
       "\n",
       "      salary  \n",
       "19028   >50K  \n",
       "28179  <=50K  \n",
       "12000   >50K  \n",
       "21383  <=50K  \n",
       "4578   <=50K  \n",
       "24908  <=50K  \n",
       "18577  <=50K  \n",
       "18669  <=50K  \n",
       "13892  <=50K  \n",
       "8363   <=50K  "
      ]
     },
     "execution_count": 22,
     "metadata": {},
     "output_type": "execute_result"
    }
   ],
   "source": [
    "# checking the null values in the native_country column\n",
    "df[df['native_country'].isnull()].sample(10)"
   ]
  },
  {
   "cell_type": "markdown",
   "id": "faa2e0fb",
   "metadata": {},
   "source": [
    "- As it is difficult to infer a person's native_country, I would also be dropping these values"
   ]
  },
  {
   "cell_type": "code",
   "execution_count": 23,
   "id": "f65e48eb",
   "metadata": {},
   "outputs": [],
   "source": [
    "# dropping the null values in the native_country column\n",
    "df.dropna(subset=['native_country'], inplace=True)"
   ]
  },
  {
   "cell_type": "code",
   "execution_count": 24,
   "id": "e8e06ffb",
   "metadata": {},
   "outputs": [
    {
     "data": {
      "text/plain": [
       " White                 386\n",
       " Black                  96\n",
       " Asian-Pac-Islander     83\n",
       " Other                  18\n",
       "Name: race, dtype: int64"
      ]
     },
     "execution_count": 24,
     "metadata": {},
     "output_type": "execute_result"
    }
   ],
   "source": [
    "data[data['native_country']== ' ?']['race'].value_counts()"
   ]
  },
  {
   "cell_type": "code",
   "execution_count": 25,
   "id": "d0e9f68a",
   "metadata": {},
   "outputs": [
    {
     "data": {
      "text/plain": [
       "age                       0\n",
       "workclass                 0\n",
       "fnlwgt                    0\n",
       "education                 0\n",
       "education_no_of_years     0\n",
       "marital_status            0\n",
       "occupation                0\n",
       "relationship              0\n",
       "race                      0\n",
       "sex                       0\n",
       "capital_gain              0\n",
       "capital_loss              0\n",
       "working_hours_per_week    0\n",
       "native_country            0\n",
       "salary                    0\n",
       "dtype: int64"
      ]
     },
     "execution_count": 25,
     "metadata": {},
     "output_type": "execute_result"
    }
   ],
   "source": [
    "# quality check\n",
    "df.isnull().sum()"
   ]
  },
  {
   "cell_type": "markdown",
   "id": "3716d3a6",
   "metadata": {},
   "source": [
    "- All null values in the dataset have been treated"
   ]
  },
  {
   "cell_type": "markdown",
   "id": "9028d2e1",
   "metadata": {},
   "source": [
    "#### Splitting the dataframe into numerical and object data frames"
   ]
  },
  {
   "cell_type": "code",
   "execution_count": 26,
   "id": "ac47de19",
   "metadata": {},
   "outputs": [],
   "source": [
    "#getting the data in the numerical type columns\n",
    "num_cols = df.select_dtypes(include='number')\n",
    "\n",
    "# getting the data in the object type columns\n",
    "obj_cols = df.select_dtypes(include='object')"
   ]
  },
  {
   "cell_type": "code",
   "execution_count": 27,
   "id": "e93649c8",
   "metadata": {},
   "outputs": [
    {
     "data": {
      "text/html": [
       "<div>\n",
       "<style scoped>\n",
       "    .dataframe tbody tr th:only-of-type {\n",
       "        vertical-align: middle;\n",
       "    }\n",
       "\n",
       "    .dataframe tbody tr th {\n",
       "        vertical-align: top;\n",
       "    }\n",
       "\n",
       "    .dataframe thead th {\n",
       "        text-align: right;\n",
       "    }\n",
       "</style>\n",
       "<table border=\"1\" class=\"dataframe\">\n",
       "  <thead>\n",
       "    <tr style=\"text-align: right;\">\n",
       "      <th></th>\n",
       "      <th>count</th>\n",
       "      <th>unique</th>\n",
       "      <th>top</th>\n",
       "      <th>freq</th>\n",
       "    </tr>\n",
       "  </thead>\n",
       "  <tbody>\n",
       "    <tr>\n",
       "      <th>workclass</th>\n",
       "      <td>30146</td>\n",
       "      <td>8</td>\n",
       "      <td>Private</td>\n",
       "      <td>22264</td>\n",
       "    </tr>\n",
       "    <tr>\n",
       "      <th>education</th>\n",
       "      <td>30146</td>\n",
       "      <td>16</td>\n",
       "      <td>HS-grad</td>\n",
       "      <td>9835</td>\n",
       "    </tr>\n",
       "    <tr>\n",
       "      <th>marital_status</th>\n",
       "      <td>30146</td>\n",
       "      <td>5</td>\n",
       "      <td>Married</td>\n",
       "      <td>14451</td>\n",
       "    </tr>\n",
       "    <tr>\n",
       "      <th>occupation</th>\n",
       "      <td>30146</td>\n",
       "      <td>15</td>\n",
       "      <td>Prof-specialty</td>\n",
       "      <td>4034</td>\n",
       "    </tr>\n",
       "    <tr>\n",
       "      <th>relationship</th>\n",
       "      <td>30146</td>\n",
       "      <td>6</td>\n",
       "      <td>Husband</td>\n",
       "      <td>12457</td>\n",
       "    </tr>\n",
       "    <tr>\n",
       "      <th>race</th>\n",
       "      <td>30146</td>\n",
       "      <td>5</td>\n",
       "      <td>White</td>\n",
       "      <td>25917</td>\n",
       "    </tr>\n",
       "    <tr>\n",
       "      <th>sex</th>\n",
       "      <td>30146</td>\n",
       "      <td>2</td>\n",
       "      <td>Male</td>\n",
       "      <td>20371</td>\n",
       "    </tr>\n",
       "    <tr>\n",
       "      <th>native_country</th>\n",
       "      <td>30146</td>\n",
       "      <td>41</td>\n",
       "      <td>United-States</td>\n",
       "      <td>27494</td>\n",
       "    </tr>\n",
       "    <tr>\n",
       "      <th>salary</th>\n",
       "      <td>30146</td>\n",
       "      <td>2</td>\n",
       "      <td>&lt;=50K</td>\n",
       "      <td>22640</td>\n",
       "    </tr>\n",
       "  </tbody>\n",
       "</table>\n",
       "</div>"
      ],
      "text/plain": [
       "                count unique             top   freq\n",
       "workclass       30146      8         Private  22264\n",
       "education       30146     16         HS-grad   9835\n",
       "marital_status  30146      5         Married  14451\n",
       "occupation      30146     15  Prof-specialty   4034\n",
       "relationship    30146      6         Husband  12457\n",
       "race            30146      5           White  25917\n",
       "sex             30146      2            Male  20371\n",
       "native_country  30146     41   United-States  27494\n",
       "salary          30146      2           <=50K  22640"
      ]
     },
     "execution_count": 27,
     "metadata": {},
     "output_type": "execute_result"
    }
   ],
   "source": [
    "obj_cols.describe(include='all').T"
   ]
  },
  {
   "cell_type": "markdown",
   "id": "2f85e7c8",
   "metadata": {},
   "source": [
    "**Observations:**\n",
    "- Most people work for private companies\n",
    "- The mode education level is High School graduates\n",
    "- The mode marital status is Married\n",
    "- The mode occupation is Prof-specialty\n",
    "- The mode relationship status is Husband\n",
    "- Most common race is White\n",
    "- Most people are men\n",
    "- Most people come from the United States\n",
    "- Most people earn below 50K"
   ]
  },
  {
   "cell_type": "code",
   "execution_count": 28,
   "id": "4d97d3fa",
   "metadata": {},
   "outputs": [
    {
     "data": {
      "text/html": [
       "<div>\n",
       "<style scoped>\n",
       "    .dataframe tbody tr th:only-of-type {\n",
       "        vertical-align: middle;\n",
       "    }\n",
       "\n",
       "    .dataframe tbody tr th {\n",
       "        vertical-align: top;\n",
       "    }\n",
       "\n",
       "    .dataframe thead th {\n",
       "        text-align: right;\n",
       "    }\n",
       "</style>\n",
       "<table border=\"1\" class=\"dataframe\">\n",
       "  <thead>\n",
       "    <tr style=\"text-align: right;\">\n",
       "      <th></th>\n",
       "      <th>count</th>\n",
       "      <th>mean</th>\n",
       "      <th>std</th>\n",
       "      <th>min</th>\n",
       "      <th>25%</th>\n",
       "      <th>50%</th>\n",
       "      <th>75%</th>\n",
       "      <th>max</th>\n",
       "    </tr>\n",
       "  </thead>\n",
       "  <tbody>\n",
       "    <tr>\n",
       "      <th>age</th>\n",
       "      <td>30146.0</td>\n",
       "      <td>38.437570</td>\n",
       "      <td>13.132886</td>\n",
       "      <td>17.0</td>\n",
       "      <td>28.00</td>\n",
       "      <td>37.0</td>\n",
       "      <td>47.00</td>\n",
       "      <td>90.0</td>\n",
       "    </tr>\n",
       "    <tr>\n",
       "      <th>fnlwgt</th>\n",
       "      <td>30146.0</td>\n",
       "      <td>189803.430472</td>\n",
       "      <td>105658.809895</td>\n",
       "      <td>13769.0</td>\n",
       "      <td>117638.25</td>\n",
       "      <td>178419.0</td>\n",
       "      <td>237583.75</td>\n",
       "      <td>1484705.0</td>\n",
       "    </tr>\n",
       "    <tr>\n",
       "      <th>education_no_of_years</th>\n",
       "      <td>30146.0</td>\n",
       "      <td>10.121907</td>\n",
       "      <td>2.548979</td>\n",
       "      <td>1.0</td>\n",
       "      <td>9.00</td>\n",
       "      <td>10.0</td>\n",
       "      <td>13.00</td>\n",
       "      <td>16.0</td>\n",
       "    </tr>\n",
       "    <tr>\n",
       "      <th>capital_gain</th>\n",
       "      <td>30146.0</td>\n",
       "      <td>1092.587441</td>\n",
       "      <td>7408.269021</td>\n",
       "      <td>0.0</td>\n",
       "      <td>0.00</td>\n",
       "      <td>0.0</td>\n",
       "      <td>0.00</td>\n",
       "      <td>99999.0</td>\n",
       "    </tr>\n",
       "    <tr>\n",
       "      <th>capital_loss</th>\n",
       "      <td>30146.0</td>\n",
       "      <td>88.419392</td>\n",
       "      <td>404.400523</td>\n",
       "      <td>0.0</td>\n",
       "      <td>0.00</td>\n",
       "      <td>0.0</td>\n",
       "      <td>0.00</td>\n",
       "      <td>4356.0</td>\n",
       "    </tr>\n",
       "    <tr>\n",
       "      <th>working_hours_per_week</th>\n",
       "      <td>30146.0</td>\n",
       "      <td>40.931799</td>\n",
       "      <td>11.980794</td>\n",
       "      <td>1.0</td>\n",
       "      <td>40.00</td>\n",
       "      <td>40.0</td>\n",
       "      <td>45.00</td>\n",
       "      <td>99.0</td>\n",
       "    </tr>\n",
       "  </tbody>\n",
       "</table>\n",
       "</div>"
      ],
      "text/plain": [
       "                          count           mean            std      min  \\\n",
       "age                     30146.0      38.437570      13.132886     17.0   \n",
       "fnlwgt                  30146.0  189803.430472  105658.809895  13769.0   \n",
       "education_no_of_years   30146.0      10.121907       2.548979      1.0   \n",
       "capital_gain            30146.0    1092.587441    7408.269021      0.0   \n",
       "capital_loss            30146.0      88.419392     404.400523      0.0   \n",
       "working_hours_per_week  30146.0      40.931799      11.980794      1.0   \n",
       "\n",
       "                              25%       50%        75%        max  \n",
       "age                         28.00      37.0      47.00       90.0  \n",
       "fnlwgt                  117638.25  178419.0  237583.75  1484705.0  \n",
       "education_no_of_years        9.00      10.0      13.00       16.0  \n",
       "capital_gain                 0.00       0.0       0.00    99999.0  \n",
       "capital_loss                 0.00       0.0       0.00     4356.0  \n",
       "working_hours_per_week      40.00      40.0      45.00       99.0  "
      ]
     },
     "execution_count": 28,
     "metadata": {},
     "output_type": "execute_result"
    }
   ],
   "source": [
    "# statistical summary of the numerical columns\n",
    "num_cols.describe(include='all').T"
   ]
  },
  {
   "cell_type": "markdown",
   "id": "56e404e3",
   "metadata": {},
   "source": [
    "**Observations:**\n",
    "- Most people are between 28 - 47 years old\n",
    "- Most people have a fnlwgt between 117638 - 237583\n",
    "- Most people have spent between 9 - 13 years in school. It means that most people went to highschool or have a bachelor's degree \n",
    "- Most people have a capital gain and loss of 0, meaning that most people do not have investments\n",
    "- Most people work between 40 - 45 hours per week"
   ]
  },
  {
   "cell_type": "markdown",
   "id": "46c83395",
   "metadata": {},
   "source": [
    "### Univariate analysis"
   ]
  },
  {
   "cell_type": "markdown",
   "id": "4bc67295",
   "metadata": {},
   "source": [
    "**Numerical Variables**"
   ]
  },
  {
   "cell_type": "code",
   "execution_count": 29,
   "id": "8a18030d",
   "metadata": {
    "scrolled": false
   },
   "outputs": [
    {
     "data": {
      "image/png": "[encoded data removed]",
      "text/plain": [
       "<Figure size 864x2160 with 20 Axes>"
      ]
     },
     "metadata": {
      "needs_background": "light"
     },
     "output_type": "display_data"
    }
   ],
   "source": [
    "# plotting histograms of all the numerical columns\n",
    "num_cols.hist(stacked = False, bins = 100, figsize = (12, 30), layout = (10, 2))\n",
    "plt.tight_layout();"
   ]
  },
  {
   "cell_type": "markdown",
   "id": "922f44c4",
   "metadata": {},
   "source": [
    "**Observations:**\n",
    "- The age variable is right skewed. Most people are aged between 20 and 50\n",
    "- The fnlwgt column is right skewed. Most people have a fnlwgt between 100000 to 200000\n",
    "- Education number of years is more discrete with the highes occurence being 9\n",
    "- Capital gain and loss is right skewed. Most people have no investments.\n",
    "- Working hours per week seems to be evenly distributed, with the highest occurrence being 40."
   ]
  },
  {
   "cell_type": "markdown",
   "id": "07c82ea2",
   "metadata": {},
   "source": [
    "**Categorical Variables**"
   ]
  },
  {
   "cell_type": "code",
   "execution_count": 30,
   "id": "8ef4d939",
   "metadata": {},
   "outputs": [
    {
     "data": {
      "text/plain": [
       "Index(['workclass', 'education', 'marital_status', 'occupation',\n",
       "       'relationship', 'race', 'sex', 'native_country', 'salary'],\n",
       "      dtype='object')"
      ]
     },
     "execution_count": 30,
     "metadata": {},
     "output_type": "execute_result"
    }
   ],
   "source": [
    "# getting the object columns\n",
    "obj_cols.columns"
   ]
  },
  {
   "cell_type": "code",
   "execution_count": 31,
   "id": "1ba54498",
   "metadata": {
    "scrolled": false
   },
   "outputs": [
    {
     "data": {
      "image/png": "[encoded data removed]",
      "text/plain": [
       "<Figure size 1224x1440 with 9 Axes>"
      ]
     },
     "metadata": {
      "needs_background": "light"
     },
     "output_type": "display_data"
    }
   ],
   "source": [
    "# unvariate plots of the categorical variables\n",
    "plt.figure(figsize=(17, 20))\n",
    "\n",
    "for i, variable in enumerate(obj_cols):\n",
    "    plt.subplot(3, 3, i+1)\n",
    "    order = df[variable].value_counts(ascending=False).index    \n",
    "    ax=sns.countplot(x=df[variable], data=df, order=order)\n",
    "    plt.xticks(rotation=90)\n",
    "    plt.tight_layout()\n",
    "    plt.title(f\"{variable.title()} Distribution\")"
   ]
  },
  {
   "cell_type": "markdown",
   "id": "83c2dee9",
   "metadata": {},
   "source": [
    "**Observations**\n",
    "- Most individuals work in private institutions\n",
    "- Most people have a High School degree, followed by College degree, and then a Bachelor's degree\n",
    "- Most people are married, followed by never-married and then divorced\n",
    "- Most common occupations are Prof_Specialty, Craft-repair, Exec-Managerial. This is not suprising as majority of people in the data have a High School Diploma at the least\n",
    "- Most common relationship is Husband\n",
    "- The predominant race is white\n",
    "- There are more males than females in the data\n",
    "- Most common country is the United States, followed by Mexico"
   ]
  },
  {
   "cell_type": "markdown",
   "id": "0d548a4b",
   "metadata": {},
   "source": [
    "### Bivariate Analysis"
   ]
  },
  {
   "cell_type": "markdown",
   "id": "653faf7c",
   "metadata": {},
   "source": [
    "**Converting the target variable (salary) to classes**"
   ]
  },
  {
   "cell_type": "code",
   "execution_count": 32,
   "id": "1ec660b2",
   "metadata": {},
   "outputs": [
    {
     "data": {
      "text/plain": [
       "<=50K    22640\n",
       ">50K      7506\n",
       "Name: salary, dtype: int64"
      ]
     },
     "execution_count": 32,
     "metadata": {},
     "output_type": "execute_result"
    }
   ],
   "source": [
    "# computing the value count in salary\n",
    "df.salary.value_counts()"
   ]
  },
  {
   "cell_type": "code",
   "execution_count": 33,
   "id": "8512882b",
   "metadata": {},
   "outputs": [],
   "source": [
    "# function to convert the target variable to classes\n",
    "def encode_target(salary):\n",
    "    \"\"\"Function to convert the target variable to classes\n",
    "    Args:\n",
    "        salary: the salary variable\n",
    "    Returns: 1 if salary is <=50K, else 0\n",
    "    \"\"\"\n",
    "    if salary == '<=50K':\n",
    "        return 1\n",
    "    else:\n",
    "        return 0\n",
    "\n",
    "df_2 = df.copy() # making a copy of the df dataframe\n",
    "df_2['salary'] = df_2['salary'].apply(encode_target)"
   ]
  },
  {
   "cell_type": "code",
   "execution_count": 34,
   "id": "3fb44976",
   "metadata": {},
   "outputs": [
    {
     "data": {
      "text/plain": [
       "1    22640\n",
       "0     7506\n",
       "Name: salary, dtype: int64"
      ]
     },
     "execution_count": 34,
     "metadata": {},
     "output_type": "execute_result"
    }
   ],
   "source": [
    "# quality check\n",
    "df_2.salary.value_counts()"
   ]
  },
  {
   "cell_type": "markdown",
   "id": "ce45e464",
   "metadata": {},
   "source": [
    "- In the target variable, the **minority class is 0 (people who earn >50K)** and the **majority class is 1 (people who earn <=50K)**. "
   ]
  },
  {
   "cell_type": "markdown",
   "id": "55130d4b",
   "metadata": {},
   "source": [
    "**Numerical Variables**"
   ]
  },
  {
   "cell_type": "code",
   "execution_count": 35,
   "id": "f51aa992",
   "metadata": {},
   "outputs": [
    {
     "data": {
      "image/png": "[encoded data removed]",
      "text/plain": [
       "<Figure size 576x432 with 2 Axes>"
      ]
     },
     "metadata": {
      "needs_background": "light"
     },
     "output_type": "display_data"
    }
   ],
   "source": [
    "plt.figure(figsize = (8, 6))\n",
    "num_df = df_2.select_dtypes(include='number')\n",
    "sns.heatmap(num_df.corr(), annot=True, vmin=-1, vmax=1)\n",
    "plt.savefig('corr');"
   ]
  },
  {
   "cell_type": "markdown",
   "id": "fb481328",
   "metadata": {},
   "source": [
    "- The variables have a very low correlation among themselves and the target variable"
   ]
  },
  {
   "cell_type": "markdown",
   "id": "fc6f5c91",
   "metadata": {},
   "source": [
    "**Categorical Variables**"
   ]
  },
  {
   "cell_type": "code",
   "execution_count": 36,
   "id": "f9a3623d",
   "metadata": {},
   "outputs": [
    {
     "data": {
      "text/plain": [
       "['workclass',\n",
       " 'education',\n",
       " 'marital_status',\n",
       " 'occupation',\n",
       " 'relationship',\n",
       " 'race',\n",
       " 'sex',\n",
       " 'native_country']"
      ]
     },
     "execution_count": 36,
     "metadata": {},
     "output_type": "execute_result"
    }
   ],
   "source": [
    "# dropping the target variable (salary) from the onject dataframe\n",
    "obj_cols2 = obj_cols.drop('salary', axis = 1)\n",
    "obj_cols2.columns.to_list()"
   ]
  },
  {
   "cell_type": "code",
   "execution_count": 37,
   "id": "0c6f4445",
   "metadata": {},
   "outputs": [
    {
     "data": {
      "image/png": "[encoded data removed]",
      "text/plain": [
       "<Figure size 1224x1440 with 8 Axes>"
      ]
     },
     "metadata": {
      "needs_background": "light"
     },
     "output_type": "display_data"
    }
   ],
   "source": [
    "# plots of the categorical variables conditioned by the target\n",
    "plt.figure(figsize=(17, 20))\n",
    "\n",
    "for i, variable in enumerate(obj_cols2):\n",
    "    plt.subplot(3, 3, i+1)\n",
    "    order = df[variable].value_counts(ascending=False).index    \n",
    "    ax=sns.countplot(x=df[variable], data=df, order=order, hue='salary')\n",
    "    plt.xticks(rotation=90)\n",
    "    plt.tight_layout()\n",
    "    plt.title(f\"{variable.title()} Distribution Conditioned By Salary\")\n",
    "    plt.savefig('bi_cat')"
   ]
  },
  {
   "cell_type": "markdown",
   "id": "c96eebe8",
   "metadata": {},
   "source": [
    "**Observations:**\n",
    "- The workclass of most people earning over 50K is Private, while the lowest is Never-worked\n",
    "- The education level of most people earning over 50K is Bachelors, while the lowest is Preschool\n",
    "- The marital status of most people earning over 50K is Married, while the lowest is Separated\n",
    "- The occupation of most people earning over 50K is Exec-managerial, followed by Prof-specialty. The lowest is Unemployed\n",
    "- The relationship of most people earning over 50K is husband, while the lowest is Other-relative\n",
    "- The race of most people earning over 50K is White, while the lowest is Other\n",
    "- More males earn over 50K than females\n",
    "- The native country of most people earning over 50K is United-States"
   ]
  },
  {
   "cell_type": "markdown",
   "id": "dfbb162b",
   "metadata": {},
   "source": [
    "**Grouping Nationalities by Continent**"
   ]
  },
  {
   "cell_type": "code",
   "execution_count": 38,
   "id": "d8562962",
   "metadata": {},
   "outputs": [],
   "source": [
    "def group_by_continent(native_country):\n",
    "    \"\"\"Function to group native country by continent\n",
    "    Args:\n",
    "        native_country: the native country column\n",
    "    Returns: continents based on the location of the native country   \n",
    "    \"\"\"\n",
    "    \n",
    "    north_ame = ['United-States', 'Cuba', 'Jamaica', 'Mexico', 'Puerto-Rico', 'Honduras', 'Canada', \n",
    "                 'El-Salvador', 'Guatemala', 'Dominican-Republic', 'Outlying-US(Guam-USVI-etc)', \n",
    "                 'Trinadad&Tobago', 'Nicaragua', 'Haiti']\n",
    "    \n",
    "    asia = ['India', 'Iran', 'South-Korea', 'Philippines', 'Cambodia', 'Thailand', 'Laos', 'Taiwan', 'China', \n",
    "            'Japan', 'Vietnam', 'Hong-Kong']\n",
    "    \n",
    "    europe = ['England', 'Germany', 'Poland', 'Italy', 'Portugal', 'France', 'Yugoslavia', 'Scotland', \n",
    "              'Greece', 'Ireland', 'Hungary', 'Holand-Netherlands' ]\n",
    "    \n",
    "    south_ame = ['Columbia', 'Ecuador', 'Peru']\n",
    "    \n",
    "    if native_country in north_ame:\n",
    "        return 'North-America'\n",
    "    elif native_country in asia:\n",
    "        return 'Asia'\n",
    "    elif native_country in europe:\n",
    "        return 'Europe'\n",
    "    elif native_country in south_ame:\n",
    "        return 'South-America'\n",
    "    \n",
    "\n",
    "df['continent'] = df['native_country'].apply(group_by_continent)"
   ]
  },
  {
   "cell_type": "code",
   "execution_count": 39,
   "id": "63db0984",
   "metadata": {},
   "outputs": [
    {
     "data": {
      "image/png": "[encoded data removed]",
      "text/plain": [
       "<Figure size 576x432 with 1 Axes>"
      ]
     },
     "metadata": {
      "needs_background": "light"
     },
     "output_type": "display_data"
    }
   ],
   "source": [
    "plt.figure(figsize=(8, 6))\n",
    "sns.countplot(x=df['continent'], data=df, hue='salary')\n",
    "plt.title(\"Continent Distribution Conditioned by Salary\");"
   ]
  },
  {
   "cell_type": "markdown",
   "id": "5b0aa274",
   "metadata": {},
   "source": [
    "- The continent with the most people earning over 50K is North America. It also has the most number of earners.\n",
    "- It is followed by Asia, Europe and South-America in descending order."
   ]
  },
  {
   "cell_type": "markdown",
   "id": "8b87b439",
   "metadata": {},
   "source": [
    "#### Numerical categorical variable"
   ]
  },
  {
   "cell_type": "markdown",
   "id": "c6159c95",
   "metadata": {},
   "source": [
    "Looking at the data, education_number_of_years tallies with the education level. I will be converting the education_number_of_years column to a category data type.\n",
    "\n",
    "- Preschool = 1\n",
    "- 1st-4th = 2\n",
    "- 5th-6th = 3\n",
    "- 7th-8th = 4\n",
    "- 9th = 5\n",
    "- 10th = 6\n",
    "- 11th = 7\n",
    "- 12th = 8\n",
    "- HS-grad = 9\n",
    "- Some-college = 10\n",
    "- Assoc-voc = 11\n",
    "- Assoc-acdm = 12\n",
    "- Bachelors = 13\n",
    "- Masters = 14\n",
    "- Prof-school = 15\n",
    "- Doctorate = 16"
   ]
  },
  {
   "cell_type": "markdown",
   "id": "2b91cf34",
   "metadata": {},
   "source": [
    "But first, confirm the above is true for all rows in the dataframe"
   ]
  },
  {
   "cell_type": "code",
   "execution_count": 40,
   "id": "f5256434",
   "metadata": {},
   "outputs": [
    {
     "data": {
      "text/plain": [
       "[Int64Index([], dtype='int64'),\n",
       " Int64Index([], dtype='int64'),\n",
       " Int64Index([], dtype='int64'),\n",
       " Int64Index([], dtype='int64'),\n",
       " Int64Index([], dtype='int64'),\n",
       " Int64Index([], dtype='int64'),\n",
       " Int64Index([], dtype='int64'),\n",
       " Int64Index([], dtype='int64'),\n",
       " Int64Index([], dtype='int64'),\n",
       " Int64Index([], dtype='int64'),\n",
       " Int64Index([], dtype='int64'),\n",
       " Int64Index([], dtype='int64'),\n",
       " Int64Index([], dtype='int64'),\n",
       " Int64Index([], dtype='int64'),\n",
       " Int64Index([], dtype='int64'),\n",
       " Int64Index([], dtype='int64')]"
      ]
     },
     "execution_count": 40,
     "metadata": {},
     "output_type": "execute_result"
    }
   ],
   "source": [
    "# confirming the education column tallies with the education_no_of_years in the dataframe\n",
    "edu_level = ['Preschool', '1st-4th', '5th-6th', '7th-8th', '9th', '10th', '11th', '12th', 'HS-grad', \n",
    "             'Some-college', 'Assoc-voc', 'Assoc-acdm', 'Bachelors', 'Masters', 'Prof-school', 'Doctorate']\n",
    "\n",
    "years = [i for i in range(1, 17)] # years 1 - 16\n",
    "\n",
    "# getting the rows where education does not tally with the appropriate number of years\n",
    "affected_rows = [df[(df['education'] == edu) & (df['education_no_of_years'] != yrs)].index \\\n",
    "                 for edu,yrs in zip(edu_level, years)]\n",
    "\n",
    "affected_rows"
   ]
  },
  {
   "cell_type": "markdown",
   "id": "2afc3b2e",
   "metadata": {},
   "source": [
    "- Everything looks in place. No rows were returned"
   ]
  },
  {
   "cell_type": "code",
   "execution_count": 41,
   "id": "5160ddde",
   "metadata": {},
   "outputs": [],
   "source": [
    "# converting education_number_of_years to categorical datatype\n",
    "df['education_no_of_years'] = df['education_no_of_years'].astype('category')"
   ]
  },
  {
   "cell_type": "code",
   "execution_count": 42,
   "id": "097a5617",
   "metadata": {},
   "outputs": [
    {
     "data": {
      "text/plain": [
       "CategoricalDtype(categories=[1, 2, 3, 4, 5, 6, 7, 8, 9, 10, 11, 12, 13, 14, 15, 16], ordered=False)"
      ]
     },
     "execution_count": 42,
     "metadata": {},
     "output_type": "execute_result"
    }
   ],
   "source": [
    "# quality check\n",
    "df['education_no_of_years'].dtype"
   ]
  },
  {
   "cell_type": "markdown",
   "id": "15b00264",
   "metadata": {},
   "source": [
    "#### Converting the target in the df dataframe to 1s and 0s"
   ]
  },
  {
   "cell_type": "code",
   "execution_count": 43,
   "id": "3cf2e190",
   "metadata": {},
   "outputs": [],
   "source": [
    "# applying the encode_target function\n",
    "df['salary'] = df['salary'].apply(encode_target)"
   ]
  },
  {
   "cell_type": "code",
   "execution_count": 44,
   "id": "e1f23dfd",
   "metadata": {},
   "outputs": [
    {
     "data": {
      "text/html": [
       "<div>\n",
       "<style scoped>\n",
       "    .dataframe tbody tr th:only-of-type {\n",
       "        vertical-align: middle;\n",
       "    }\n",
       "\n",
       "    .dataframe tbody tr th {\n",
       "        vertical-align: top;\n",
       "    }\n",
       "\n",
       "    .dataframe thead th {\n",
       "        text-align: right;\n",
       "    }\n",
       "</style>\n",
       "<table border=\"1\" class=\"dataframe\">\n",
       "  <thead>\n",
       "    <tr style=\"text-align: right;\">\n",
       "      <th></th>\n",
       "      <th>age</th>\n",
       "      <th>workclass</th>\n",
       "      <th>fnlwgt</th>\n",
       "      <th>education</th>\n",
       "      <th>education_no_of_years</th>\n",
       "      <th>marital_status</th>\n",
       "      <th>occupation</th>\n",
       "      <th>relationship</th>\n",
       "      <th>race</th>\n",
       "      <th>sex</th>\n",
       "      <th>capital_gain</th>\n",
       "      <th>capital_loss</th>\n",
       "      <th>working_hours_per_week</th>\n",
       "      <th>native_country</th>\n",
       "      <th>salary</th>\n",
       "      <th>continent</th>\n",
       "    </tr>\n",
       "  </thead>\n",
       "  <tbody>\n",
       "    <tr>\n",
       "      <th>9848</th>\n",
       "      <td>17</td>\n",
       "      <td>Private</td>\n",
       "      <td>293440</td>\n",
       "      <td>11th</td>\n",
       "      <td>7</td>\n",
       "      <td>Never-married</td>\n",
       "      <td>Adm-clerical</td>\n",
       "      <td>Own-child</td>\n",
       "      <td>White</td>\n",
       "      <td>Female</td>\n",
       "      <td>0</td>\n",
       "      <td>0</td>\n",
       "      <td>15</td>\n",
       "      <td>United-States</td>\n",
       "      <td>1</td>\n",
       "      <td>North-America</td>\n",
       "    </tr>\n",
       "    <tr>\n",
       "      <th>21892</th>\n",
       "      <td>42</td>\n",
       "      <td>Private</td>\n",
       "      <td>280410</td>\n",
       "      <td>HS-grad</td>\n",
       "      <td>9</td>\n",
       "      <td>Married</td>\n",
       "      <td>Other-service</td>\n",
       "      <td>Husband</td>\n",
       "      <td>Black</td>\n",
       "      <td>Male</td>\n",
       "      <td>0</td>\n",
       "      <td>0</td>\n",
       "      <td>40</td>\n",
       "      <td>Haiti</td>\n",
       "      <td>1</td>\n",
       "      <td>North-America</td>\n",
       "    </tr>\n",
       "    <tr>\n",
       "      <th>10174</th>\n",
       "      <td>60</td>\n",
       "      <td>Private</td>\n",
       "      <td>355865</td>\n",
       "      <td>Masters</td>\n",
       "      <td>14</td>\n",
       "      <td>Married</td>\n",
       "      <td>Exec-managerial</td>\n",
       "      <td>Husband</td>\n",
       "      <td>White</td>\n",
       "      <td>Male</td>\n",
       "      <td>0</td>\n",
       "      <td>0</td>\n",
       "      <td>50</td>\n",
       "      <td>United-States</td>\n",
       "      <td>0</td>\n",
       "      <td>North-America</td>\n",
       "    </tr>\n",
       "    <tr>\n",
       "      <th>27944</th>\n",
       "      <td>41</td>\n",
       "      <td>Local-gov</td>\n",
       "      <td>336571</td>\n",
       "      <td>Some-college</td>\n",
       "      <td>10</td>\n",
       "      <td>Married</td>\n",
       "      <td>Exec-managerial</td>\n",
       "      <td>Husband</td>\n",
       "      <td>White</td>\n",
       "      <td>Male</td>\n",
       "      <td>0</td>\n",
       "      <td>0</td>\n",
       "      <td>40</td>\n",
       "      <td>United-States</td>\n",
       "      <td>1</td>\n",
       "      <td>North-America</td>\n",
       "    </tr>\n",
       "    <tr>\n",
       "      <th>24995</th>\n",
       "      <td>39</td>\n",
       "      <td>Private</td>\n",
       "      <td>160120</td>\n",
       "      <td>Some-college</td>\n",
       "      <td>10</td>\n",
       "      <td>Never-married</td>\n",
       "      <td>Machine-op-inspct</td>\n",
       "      <td>Other-relative</td>\n",
       "      <td>Asian-Pac-Islander</td>\n",
       "      <td>Male</td>\n",
       "      <td>0</td>\n",
       "      <td>0</td>\n",
       "      <td>40</td>\n",
       "      <td>Philippines</td>\n",
       "      <td>1</td>\n",
       "      <td>Asia</td>\n",
       "    </tr>\n",
       "  </tbody>\n",
       "</table>\n",
       "</div>"
      ],
      "text/plain": [
       "       age  workclass  fnlwgt     education education_no_of_years  \\\n",
       "9848    17    Private  293440          11th                     7   \n",
       "21892   42    Private  280410       HS-grad                     9   \n",
       "10174   60    Private  355865       Masters                    14   \n",
       "27944   41  Local-gov  336571  Some-college                    10   \n",
       "24995   39    Private  160120  Some-college                    10   \n",
       "\n",
       "      marital_status         occupation    relationship                race  \\\n",
       "9848   Never-married       Adm-clerical       Own-child               White   \n",
       "21892        Married      Other-service         Husband               Black   \n",
       "10174        Married    Exec-managerial         Husband               White   \n",
       "27944        Married    Exec-managerial         Husband               White   \n",
       "24995  Never-married  Machine-op-inspct  Other-relative  Asian-Pac-Islander   \n",
       "\n",
       "          sex  capital_gain  capital_loss  working_hours_per_week  \\\n",
       "9848   Female             0             0                      15   \n",
       "21892    Male             0             0                      40   \n",
       "10174    Male             0             0                      50   \n",
       "27944    Male             0             0                      40   \n",
       "24995    Male             0             0                      40   \n",
       "\n",
       "      native_country  salary      continent  \n",
       "9848   United-States       1  North-America  \n",
       "21892          Haiti       1  North-America  \n",
       "10174  United-States       0  North-America  \n",
       "27944  United-States       1  North-America  \n",
       "24995    Philippines       1           Asia  "
      ]
     },
     "execution_count": 44,
     "metadata": {},
     "output_type": "execute_result"
    }
   ],
   "source": [
    "# quality check\n",
    "df.sample(5)"
   ]
  },
  {
   "cell_type": "markdown",
   "id": "83093fd1",
   "metadata": {},
   "source": [
    "### Building the model"
   ]
  },
  {
   "cell_type": "markdown",
   "id": "f32577b4",
   "metadata": {},
   "source": [
    "#### Feature Selection"
   ]
  },
  {
   "cell_type": "code",
   "execution_count": 45,
   "id": "5298d288",
   "metadata": {},
   "outputs": [
    {
     "data": {
      "text/plain": [
       "1    22640\n",
       "0     7506\n",
       "Name: salary, dtype: int64"
      ]
     },
     "execution_count": 45,
     "metadata": {},
     "output_type": "execute_result"
    }
   ],
   "source": [
    "df['salary'].value_counts()"
   ]
  },
  {
   "cell_type": "code",
   "execution_count": 46,
   "id": "2cb29bf3",
   "metadata": {},
   "outputs": [
    {
     "data": {
      "text/plain": [
       "1    0.751012\n",
       "0    0.248988\n",
       "Name: salary, dtype: float64"
      ]
     },
     "execution_count": 46,
     "metadata": {},
     "output_type": "execute_result"
    }
   ],
   "source": [
    "df['salary'].value_counts(normalize=True)"
   ]
  },
  {
   "cell_type": "markdown",
   "id": "d3d2d79a",
   "metadata": {},
   "source": [
    "- From the above, we can see that the target data is imbalanced as one category is higher than the other.\n",
    "- About **75% of people earn 50K and below (1 class)**, while about **25% of peple earn over 50K (0 class)**."
   ]
  },
  {
   "cell_type": "markdown",
   "id": "b7c65adf",
   "metadata": {},
   "source": [
    "#### Splitting the data"
   ]
  },
  {
   "cell_type": "markdown",
   "id": "c4ca87f5",
   "metadata": {},
   "source": [
    "I would be dropping the columns listed below:\n",
    "- **education**. This column is also represented by the education number of years column\n",
    "- **native_country**. This column has been grouped by continent. I would be using the continent column instead."
   ]
  },
  {
   "cell_type": "code",
   "execution_count": 47,
   "id": "8ea9bdfa",
   "metadata": {},
   "outputs": [],
   "source": [
    "# feature selection\n",
    "X = df.drop(['salary', 'education', 'native_country'], axis=1) \n",
    "y = df['salary'] #target data"
   ]
  },
  {
   "cell_type": "markdown",
   "id": "32953d33",
   "metadata": {},
   "source": [
    "#### Creating dummy variables"
   ]
  },
  {
   "cell_type": "code",
   "execution_count": 48,
   "id": "084b8c63",
   "metadata": {},
   "outputs": [],
   "source": [
    "# This is a method of one hot encoding categorical variables to convert them to numerical variables\n",
    "X = pd.get_dummies(X, drop_first=True)"
   ]
  },
  {
   "cell_type": "code",
   "execution_count": 86,
   "id": "c61488c6",
   "metadata": {},
   "outputs": [
    {
     "data": {
      "text/plain": [
       "Index(['age', 'fnlwgt', 'capital_gain', 'capital_loss',\n",
       "       'working_hours_per_week', 'workclass_Local-gov',\n",
       "       'workclass_Never-worked', 'workclass_Private', 'workclass_Self-emp-inc',\n",
       "       'workclass_Self-emp-not-inc', 'workclass_State-gov',\n",
       "       'workclass_Without-pay', 'education_no_of_years_2',\n",
       "       'education_no_of_years_3', 'education_no_of_years_4',\n",
       "       'education_no_of_years_5', 'education_no_of_years_6',\n",
       "       'education_no_of_years_7', 'education_no_of_years_8',\n",
       "       'education_no_of_years_9', 'education_no_of_years_10',\n",
       "       'education_no_of_years_11', 'education_no_of_years_12',\n",
       "       'education_no_of_years_13', 'education_no_of_years_14',\n",
       "       'education_no_of_years_15', 'education_no_of_years_16',\n",
       "       'marital_status_Married', 'marital_status_Never-married',\n",
       "       'marital_status_Separated', 'marital_status_Widowed',\n",
       "       'occupation_Armed-Forces', 'occupation_Craft-repair',\n",
       "       'occupation_Exec-managerial', 'occupation_Farming-fishing',\n",
       "       'occupation_Handlers-cleaners', 'occupation_Machine-op-inspct',\n",
       "       'occupation_Other-service', 'occupation_Priv-house-serv',\n",
       "       'occupation_Prof-specialty', 'occupation_Protective-serv',\n",
       "       'occupation_Sales', 'occupation_Tech-support',\n",
       "       'occupation_Transport-moving', 'occupation_Unemployed',\n",
       "       'relationship_Not-in-family', 'relationship_Other-relative',\n",
       "       'relationship_Own-child', 'relationship_Unmarried', 'relationship_Wife',\n",
       "       'race_Asian-Pac-Islander', 'race_Black', 'race_Other', 'race_White',\n",
       "       'sex_Male', 'continent_Europe', 'continent_North-America',\n",
       "       'continent_South-America'],\n",
       "      dtype='object')"
      ]
     },
     "execution_count": 86,
     "metadata": {},
     "output_type": "execute_result"
    }
   ],
   "source": [
    "X.columns"
   ]
  },
  {
   "cell_type": "code",
   "execution_count": 49,
   "id": "514564a3",
   "metadata": {},
   "outputs": [
    {
     "data": {
      "text/plain": [
       "(30146, 58)"
      ]
     },
     "execution_count": 49,
     "metadata": {},
     "output_type": "execute_result"
    }
   ],
   "source": [
    "# dimeansion of the training data\n",
    "X.shape"
   ]
  },
  {
   "cell_type": "markdown",
   "id": "db2b2830",
   "metadata": {},
   "source": [
    "- There are 30146 rows and 58 columns in the data"
   ]
  },
  {
   "cell_type": "code",
   "execution_count": 50,
   "id": "728f182b",
   "metadata": {},
   "outputs": [],
   "source": [
    "# splitting the data. Using 80/20 for training and test\n",
    "from sklearn.model_selection import train_test_split\n",
    "\n",
    "# split data into train_validation and test data\n",
    "x_train_val, x_test, y_train_val, y_test = train_test_split(X, y, test_size=0.2, random_state=0, stratify=y)\n",
    "\n",
    "# splitting the train_validation data into training and validation data\n",
    "x_train, x_val, y_train, y_val = train_test_split(x_train_val, \n",
    "                                                  y_train_val, \n",
    "                                                  test_size=0.2, \n",
    "                                                  random_state=0, \n",
    "                                                  stratify=y_train_val)"
   ]
  },
  {
   "cell_type": "code",
   "execution_count": 51,
   "id": "66a39925",
   "metadata": {},
   "outputs": [
    {
     "data": {
      "text/plain": [
       "1    0.750985\n",
       "0    0.249015\n",
       "Name: salary, dtype: float64"
      ]
     },
     "execution_count": 51,
     "metadata": {},
     "output_type": "execute_result"
    }
   ],
   "source": [
    "# quality check\n",
    "y_train.value_counts(normalize=True)"
   ]
  },
  {
   "cell_type": "code",
   "execution_count": 52,
   "id": "6defb74d",
   "metadata": {},
   "outputs": [
    {
     "data": {
      "text/plain": [
       "1    0.751036\n",
       "0    0.248964\n",
       "Name: salary, dtype: float64"
      ]
     },
     "execution_count": 52,
     "metadata": {},
     "output_type": "execute_result"
    }
   ],
   "source": [
    "# quality check\n",
    "y_val.value_counts(normalize=True)"
   ]
  },
  {
   "cell_type": "code",
   "execution_count": 53,
   "id": "e25ef684",
   "metadata": {},
   "outputs": [
    {
     "data": {
      "text/plain": [
       "1    0.751078\n",
       "0    0.248922\n",
       "Name: salary, dtype: float64"
      ]
     },
     "execution_count": 53,
     "metadata": {},
     "output_type": "execute_result"
    }
   ],
   "source": [
    "# quality check\n",
    "y_test.value_counts(normalize=True)"
   ]
  },
  {
   "cell_type": "markdown",
   "id": "e9146e5d",
   "metadata": {},
   "source": [
    "#### Scale the data"
   ]
  },
  {
   "cell_type": "code",
   "execution_count": 87,
   "id": "dc72cbfb",
   "metadata": {},
   "outputs": [],
   "source": [
    "# creating an instance of the scaler\n",
    "scaler = StandardScaler()\n",
    "\n",
    "# scaling the data\n",
    "x_train_sc = scaler.fit_transform(x_train)\n",
    "x_val_sc = scaler.transform(x_val)\n",
    "x_test_sc = scaler.transform(x_test)"
   ]
  },
  {
   "cell_type": "markdown",
   "id": "ae1d35ba",
   "metadata": {},
   "source": [
    "#### Training the model"
   ]
  },
  {
   "cell_type": "code",
   "execution_count": 55,
   "id": "29497f2b",
   "metadata": {},
   "outputs": [],
   "source": [
    "# creating an instance of the class\n",
    "log_reg = LogisticRegression(random_state=0)"
   ]
  },
  {
   "cell_type": "code",
   "execution_count": 56,
   "id": "a45b8e4d",
   "metadata": {},
   "outputs": [],
   "source": [
    "# function to train a model and compute train accuracy\n",
    "def train(model, X, y):\n",
    "    \"\"\"Function to train a model and compute accuracy\n",
    "    Args:\n",
    "        model: untrained model \n",
    "        X: train features\n",
    "        y: train target\n",
    "    Returns:\n",
    "        trained_model: The trained model\n",
    "    \"\"\"\n",
    "    trained_model = model.fit(X, y) # training the model\n",
    "    preds = trained_model.predict(X) # making a prediction\n",
    "    accuracy = accuracy_score(y, preds) # calculating accuracy\n",
    "    print(f\"Train Accuracy: {accuracy}\") # printing the accuracy score\n",
    "    return trained_model # returning the trained model"
   ]
  },
  {
   "cell_type": "code",
   "execution_count": 57,
   "id": "ae253693",
   "metadata": {},
   "outputs": [],
   "source": [
    "# function to evaluate the model and compute metrics on test data\n",
    "\n",
    "def evaluate_model(trained_model, X, y, threshold = 0.5): \n",
    "    \"\"\"Function to evaluate the trained model with different metrics\n",
    "    Args:\n",
    "        trained_model: a trained model (classifier)\n",
    "        X: validation data (features)/test data\n",
    "        y: target in validation data\n",
    "        threshold: value to filter predictions\n",
    "    \"\"\"\n",
    "    \n",
    "    # predicting probability\n",
    "    pred_proba = trained_model.predict_proba(X)[:, 1] # selecting the 1 class from the matrix\n",
    "    pred_class = np.round(pred_proba > threshold) # convert probability to 0 or 1 class\n",
    "    acc = accuracy_score(y, pred_class) # calculating accuracy on the validation data\n",
    "    recall = recall_score(y, pred_class) # getting the recall\n",
    "    precision = precision_score(y, pred_class) # getting the precision\n",
    "    f1 = f1_score(y, pred_class) # getting the f1 score of the model\n",
    "    \n",
    "    # creating a dataframe with the result of all the metrics. Index [0] sets an index for the dataframe\n",
    "    df = pd.DataFrame({\n",
    "        \"Accuracy\": acc,\n",
    "        \"precision\": precision,\n",
    "        \"Recall\": recall,\n",
    "        \"F1\": f1\n",
    "        \n",
    "    }, index = [0])\n",
    "    \n",
    "    # computing the confusion matrix\n",
    "    conf = confusion_matrix(y, pred_class, labels = [0, 1]) # target, predicted values, and labels \n",
    "    disp = ConfusionMatrixDisplay(conf, display_labels=[0, 1]) # setting the display for the confusion matrix\n",
    "    disp.plot() # plotting the confusion matrix\n",
    "    plt.show() # showing the confusion matrix\n",
    "    \n",
    "    return df # returns the dataframe of the calculated metrics"
   ]
  },
  {
   "cell_type": "code",
   "execution_count": 58,
   "id": "7721fc22",
   "metadata": {},
   "outputs": [
    {
     "name": "stdout",
     "output_type": "stream",
     "text": [
      "Train Accuracy: 0.8453244868339208\n"
     ]
    }
   ],
   "source": [
    "log_reg_model = train(log_reg, x_train_sc, y_train)"
   ]
  },
  {
   "cell_type": "markdown",
   "id": "ffdb9416",
   "metadata": {},
   "source": [
    "- The model has an accuracy of **85%**. This means that the model will correctly classify the data 85% of the time, assuming the model is fed new data similar to the one used to train it."
   ]
  },
  {
   "cell_type": "code",
   "execution_count": 59,
   "id": "c04e1f70",
   "metadata": {},
   "outputs": [
    {
     "data": {
      "image/png": "[encoded data removed]",
      "text/plain": [
       "<Figure size 432x288 with 2 Axes>"
      ]
     },
     "metadata": {
      "needs_background": "light"
     },
     "output_type": "display_data"
    },
    {
     "data": {
      "text/html": [
       "<div>\n",
       "<style scoped>\n",
       "    .dataframe tbody tr th:only-of-type {\n",
       "        vertical-align: middle;\n",
       "    }\n",
       "\n",
       "    .dataframe tbody tr th {\n",
       "        vertical-align: top;\n",
       "    }\n",
       "\n",
       "    .dataframe thead th {\n",
       "        text-align: right;\n",
       "    }\n",
       "</style>\n",
       "<table border=\"1\" class=\"dataframe\">\n",
       "  <thead>\n",
       "    <tr style=\"text-align: right;\">\n",
       "      <th></th>\n",
       "      <th>Accuracy</th>\n",
       "      <th>precision</th>\n",
       "      <th>Recall</th>\n",
       "      <th>F1</th>\n",
       "    </tr>\n",
       "  </thead>\n",
       "  <tbody>\n",
       "    <tr>\n",
       "      <th>0</th>\n",
       "      <td>0.854478</td>\n",
       "      <td>0.884443</td>\n",
       "      <td>0.927408</td>\n",
       "      <td>0.905416</td>\n",
       "    </tr>\n",
       "  </tbody>\n",
       "</table>\n",
       "</div>"
      ],
      "text/plain": [
       "   Accuracy  precision    Recall        F1\n",
       "0  0.854478   0.884443  0.927408  0.905416"
      ]
     },
     "execution_count": 59,
     "metadata": {},
     "output_type": "execute_result"
    }
   ],
   "source": [
    "log_reg_metrics = evaluate_model(log_reg_model, x_val_sc, y_val)\n",
    "log_reg_metrics"
   ]
  },
  {
   "cell_type": "markdown",
   "id": "68076e64",
   "metadata": {},
   "source": [
    "**Explaining the Confusion Matrix**\n",
    "- The True Positive is 3360 which is the total number of correct predictions for the 1 class (<=50K). Out of 3623 people who earn <=50K, the model correctly predicted 3360 of them. \n",
    "- The True Negative is 762. Out of 1201 people that earn >50K, the model correctly predicted 762 of them.\n",
    "- The False Positive is 439 which is the total number of incorrect predictions in the 0 class (>50K). Out of 1201 people who earn >50K, the model is incorrectly predicting 439 to earn <=50K.\n",
    "- The False Negative is 263. Out of 3623 people who earn <=50K, the model is incorrectly predicting 263 to earn >50K.\n",
    "- The actual positives are 3623 (263 + 3360)\n",
    "- The actual negatives are 1201 (762 + 439)\n",
    "\n",
    "**Explaining the Metrics**\n",
    "- The accuracy on the validation data is 85%, similar to the accuracy obtained on the training data. This means that the model will correctly predict outcomes 85% of the time if it is fed new data similar to the one used to train it.\n",
    "- The precision is 88%, which is the percentage of correct predictions in the predicted values. From the confusion matrix, out of 3799 people in the validation data that the model predicted to earn <=50K , the model predicted 88% correctly.\n",
    "- The Recall is 93%, which is the percentage of correct predictions made by the model from the validation data. Out of 3623 people in the validation data that earn <=50K, the model predicted 93% correctly. \n",
    "- The f1 score is 91% and combines the precision and recall using their harmonic mean. A higher f1 score means a better performing classifier."
   ]
  },
  {
   "cell_type": "markdown",
   "id": "196d276d",
   "metadata": {},
   "source": [
    "#### Important Features from the Model Coefficients"
   ]
  },
  {
   "cell_type": "code",
   "execution_count": 60,
   "id": "1773de39",
   "metadata": {},
   "outputs": [
    {
     "data": {
      "text/plain": [
       "array([-0.34071529, -0.05616847, -2.24069957, -0.26516306, -0.37132331,\n",
       "        0.172391  ,  0.02499566,  0.24676322,  0.06851673,  0.28797596,\n",
       "        0.17465404,  0.16539376,  0.01372746,  0.07593109,  0.02921137,\n",
       "        0.04170364, -0.0423033 , -0.05848974, -0.10535531, -0.51109065,\n",
       "       -0.57774093, -0.33186057, -0.26847831, -0.82722663, -0.54835866,\n",
       "       -0.40793152, -0.35273172, -0.14955575,  0.31315557,  0.03974114,\n",
       "       -0.00557117,  0.08948226, -0.02814461, -0.276548  ,  0.16890636,\n",
       "        0.13504071,  0.05279011,  0.28414709,  0.23970872, -0.1859204 ,\n",
       "       -0.06699912, -0.09669101, -0.11168843,  0.010035  ,  0.02499566,\n",
       "        0.51679992,  0.23008369,  0.79636278,  0.3709213 , -0.2901933 ,\n",
       "       -0.11269472, -0.08421568,  0.02169501, -0.13603956, -0.43341888,\n",
       "       -0.09018558, -0.10770538,  0.08653536])"
      ]
     },
     "execution_count": 60,
     "metadata": {},
     "output_type": "execute_result"
    }
   ],
   "source": [
    "# getting the coefficients\n",
    "log_reg_model.coef_[0]"
   ]
  },
  {
   "cell_type": "markdown",
   "id": "6cb53a2b",
   "metadata": {},
   "source": [
    "- These are the coefficient values that represent each variable in the data which the model learns\n",
    "- The first three variables are 'age', 'fnlwgt', 'capital_gain' and their corresponding coefficients are -0.34071529, -0.05616847, -2.24069957.\n",
    "  - **Age**: If the age of an individual increases by one year, assuming all other variables remain constant, the log-odds (logit) of an individual \n",
    "- It means that for a one unit increase in a variable, assuming all other variables remain constant, the log-odds (logit) of the target variable increases (if coefficient is positive) or decreases (if coefficient is negative) by the corresponding coefficient value."
   ]
  },
  {
   "cell_type": "markdown",
   "id": "55f31649",
   "metadata": {},
   "source": [
    "#### Calculating the odds"
   ]
  },
  {
   "cell_type": "code",
   "execution_count": 82,
   "id": "7afc9f18",
   "metadata": {},
   "outputs": [
    {
     "data": {
      "text/plain": [
       "0.7112613826100412"
      ]
     },
     "execution_count": 82,
     "metadata": {},
     "output_type": "execute_result"
    }
   ],
   "source": [
    "exp_odds = np.exp(-0.34071529)\n",
    "exp_odds"
   ]
  },
  {
   "cell_type": "code",
   "execution_count": 83,
   "id": "03a4be66",
   "metadata": {},
   "outputs": [
    {
     "data": {
      "text/plain": [
       "28.873861738995878"
      ]
     },
     "execution_count": 83,
     "metadata": {},
     "output_type": "execute_result"
    }
   ],
   "source": [
    "odds = (1 - exp_odds) * 100\n",
    "odds"
   ]
  },
  {
   "cell_type": "markdown",
   "id": "342c1c8b",
   "metadata": {},
   "source": [
    "To get the odds, we compute the exponent of the logit value and subtract it from 1 to get the percentage.  \n",
    "\n",
    "The above value can be interpreted as for one unit increase in the corresponding variable, assuming all other variables remain constant, the odds of an individual earning over 50K per annum increases by approximately 29%"
   ]
  },
  {
   "cell_type": "code",
   "execution_count": null,
   "id": "cc842210",
   "metadata": {},
   "outputs": [],
   "source": []
  },
  {
   "cell_type": "code",
   "execution_count": 61,
   "id": "4b66b03b",
   "metadata": {},
   "outputs": [
    {
     "data": {
      "image/png": "[encoded data removed]",
      "text/plain": [
       "<Figure size 576x432 with 1 Axes>"
      ]
     },
     "metadata": {
      "needs_background": "light"
     },
     "output_type": "display_data"
    }
   ],
   "source": [
    "# getting the important features from the model coefficients\n",
    "coef_abs = np.abs(log_reg_model.coef_[0]) # getting the absolute values for\n",
    "# storing the features and coefficients in a dataframe\n",
    "df_coef = pd.DataFrame({'feature': x_train.columns, 'coef': coef_abs})\n",
    "df_coef = df_coef.sort_values(by='coef', ascending=False) # sorting the coefficient values in descending order\n",
    "\n",
    "# bar chart of the most important features\n",
    "plt.figure(figsize=(8, 6))\n",
    "sns.barplot(data=df_coef.head(10), x='coef', y='feature')\n",
    "plt.xlabel(\"Absolute Coefficient Values\")\n",
    "plt.ylabel(\"Features\")\n",
    "plt.title(\"Top 10 Important Features\")\n",
    "plt.savefig('coeff');"
   ]
  },
  {
   "cell_type": "markdown",
   "id": "d058980d",
   "metadata": {},
   "source": [
    "### Optimising the model"
   ]
  },
  {
   "cell_type": "markdown",
   "id": "7e17dc7a",
   "metadata": {},
   "source": [
    "I will be using 3 methods to do optimise the model:\n",
    "- Using the penalty parameter l1\n",
    "- Using data imbalance techniques like SMOTE\n",
    "- Adjusting the metrics to find the optimal threshold from the Precision-Recall curve "
   ]
  },
  {
   "cell_type": "markdown",
   "id": "da9756ba",
   "metadata": {},
   "source": [
    "#### Penalty l1"
   ]
  },
  {
   "cell_type": "code",
   "execution_count": 62,
   "id": "adad5dff",
   "metadata": {},
   "outputs": [],
   "source": [
    "log_reg2 = LogisticRegression(penalty='l1', solver='liblinear', random_state=0)"
   ]
  },
  {
   "cell_type": "code",
   "execution_count": 63,
   "id": "42843c89",
   "metadata": {},
   "outputs": [
    {
     "name": "stdout",
     "output_type": "stream",
     "text": [
      "Train Accuracy: 0.8452208169189301\n"
     ]
    }
   ],
   "source": [
    "log_reg_pen_model = train(log_reg2, x_train_sc, y_train)"
   ]
  },
  {
   "cell_type": "code",
   "execution_count": 64,
   "id": "e3b60e68",
   "metadata": {},
   "outputs": [
    {
     "data": {
      "image/png": "[encoded data removed]",
      "text/plain": [
       "<Figure size 432x288 with 2 Axes>"
      ]
     },
     "metadata": {
      "needs_background": "light"
     },
     "output_type": "display_data"
    },
    {
     "data": {
      "text/html": [
       "<div>\n",
       "<style scoped>\n",
       "    .dataframe tbody tr th:only-of-type {\n",
       "        vertical-align: middle;\n",
       "    }\n",
       "\n",
       "    .dataframe tbody tr th {\n",
       "        vertical-align: top;\n",
       "    }\n",
       "\n",
       "    .dataframe thead th {\n",
       "        text-align: right;\n",
       "    }\n",
       "</style>\n",
       "<table border=\"1\" class=\"dataframe\">\n",
       "  <thead>\n",
       "    <tr style=\"text-align: right;\">\n",
       "      <th></th>\n",
       "      <th>Accuracy</th>\n",
       "      <th>precision</th>\n",
       "      <th>Recall</th>\n",
       "      <th>F1</th>\n",
       "    </tr>\n",
       "  </thead>\n",
       "  <tbody>\n",
       "    <tr>\n",
       "      <th>0</th>\n",
       "      <td>0.853648</td>\n",
       "      <td>0.883513</td>\n",
       "      <td>0.927408</td>\n",
       "      <td>0.904929</td>\n",
       "    </tr>\n",
       "  </tbody>\n",
       "</table>\n",
       "</div>"
      ],
      "text/plain": [
       "   Accuracy  precision    Recall        F1\n",
       "0  0.853648   0.883513  0.927408  0.904929"
      ]
     },
     "execution_count": 64,
     "metadata": {},
     "output_type": "execute_result"
    }
   ],
   "source": [
    "evaluate_model(log_reg_pen_model, x_val_sc, y_val)"
   ]
  },
  {
   "cell_type": "markdown",
   "id": "1578d890",
   "metadata": {},
   "source": [
    "- The values here are similar to that of the original model.\n",
    "\n",
    "**Explaining the Confusion Matrix**\n",
    "- The True Positive is 3360 which is the total number of correct predictions for the 1 class (<=50K). Out of 3623 people who earn <=50K, the model correctly predicted 3360 of them. \n",
    "- The True Negative is 758. Out of 1201 people that earn >50K, the model correctly predicted 758 of them.\n",
    "- The False Positive is 443 which is the total number of incorrect predictions in the 0 class (>50K). Out of 1201 people who earn >50K, the model is incorrectly predicting 443 to earn <=50K.\n",
    "- The False Negative is 263. Out of 3623 people who earn <=50K, the model is incorrectly predicting 263 to earn >50K.\n",
    "- The actual positives are 3623 (263 + 3360)\n",
    "- The actual negatives are 1201 (758 + 443)"
   ]
  },
  {
   "cell_type": "markdown",
   "id": "9f802e2b",
   "metadata": {},
   "source": [
    "#### Imbalanced data techniques"
   ]
  },
  {
   "cell_type": "code",
   "execution_count": 65,
   "id": "11b8c126",
   "metadata": {},
   "outputs": [],
   "source": [
    "# importing the relevant packages\n",
    "from imblearn.over_sampling import SMOTE\n",
    "from imblearn.under_sampling import RandomUnderSampler"
   ]
  },
  {
   "cell_type": "code",
   "execution_count": 66,
   "id": "70115361",
   "metadata": {},
   "outputs": [],
   "source": [
    "# instantiating the balancing methods\n",
    "smote = SMOTE(random_state=0)"
   ]
  },
  {
   "cell_type": "code",
   "execution_count": 67,
   "id": "f40cb20f",
   "metadata": {},
   "outputs": [],
   "source": [
    "# creating a function to balance the data\n",
    "def balance_data(X, y, smote_type):\n",
    "    \"\"\"Function to balance data using different balancing techniques\n",
    "    Args:\n",
    "        X: Training features\n",
    "        y: train target\n",
    "        smote_type: kind of imbalance strategy\n",
    "    \"\"\"\n",
    "    \n",
    "    X_res, y_res = smote_type.fit_resample(X, y) # resampling the model\n",
    "    return X_res, y_res # returning the resampled train and test data"
   ]
  },
  {
   "cell_type": "code",
   "execution_count": 68,
   "id": "7c3a38e5",
   "metadata": {},
   "outputs": [],
   "source": [
    "# resampling the data\n",
    "x_train_sm, y_train_sm = balance_data(x_train_sc, y_train, smote)"
   ]
  },
  {
   "cell_type": "code",
   "execution_count": 69,
   "id": "804588e4",
   "metadata": {},
   "outputs": [
    {
     "name": "stdout",
     "output_type": "stream",
     "text": [
      "Train Accuracy: 0.8277540033130867\n"
     ]
    },
    {
     "name": "stderr",
     "output_type": "stream",
     "text": [
      "/Users/apple/opt/anaconda3/lib/python3.9/site-packages/sklearn/linear_model/_logistic.py:814: ConvergenceWarning: lbfgs failed to converge (status=1):\n",
      "STOP: TOTAL NO. of ITERATIONS REACHED LIMIT.\n",
      "\n",
      "Increase the number of iterations (max_iter) or scale the data as shown in:\n",
      "    https://scikit-learn.org/stable/modules/preprocessing.html\n",
      "Please also refer to the documentation for alternative solver options:\n",
      "    https://scikit-learn.org/stable/modules/linear_model.html#logistic-regression\n",
      "  n_iter_i = _check_optimize_result(\n"
     ]
    },
    {
     "data": {
      "image/png": "[encoded data removed]",
      "text/plain": [
       "<Figure size 432x288 with 2 Axes>"
      ]
     },
     "metadata": {
      "needs_background": "light"
     },
     "output_type": "display_data"
    },
    {
     "data": {
      "text/html": [
       "<div>\n",
       "<style scoped>\n",
       "    .dataframe tbody tr th:only-of-type {\n",
       "        vertical-align: middle;\n",
       "    }\n",
       "\n",
       "    .dataframe tbody tr th {\n",
       "        vertical-align: top;\n",
       "    }\n",
       "\n",
       "    .dataframe thead th {\n",
       "        text-align: right;\n",
       "    }\n",
       "</style>\n",
       "<table border=\"1\" class=\"dataframe\">\n",
       "  <thead>\n",
       "    <tr style=\"text-align: right;\">\n",
       "      <th></th>\n",
       "      <th>Accuracy</th>\n",
       "      <th>precision</th>\n",
       "      <th>Recall</th>\n",
       "      <th>F1</th>\n",
       "    </tr>\n",
       "  </thead>\n",
       "  <tbody>\n",
       "    <tr>\n",
       "      <th>0</th>\n",
       "      <td>0.820688</td>\n",
       "      <td>0.948601</td>\n",
       "      <td>0.804858</td>\n",
       "      <td>0.870838</td>\n",
       "    </tr>\n",
       "  </tbody>\n",
       "</table>\n",
       "</div>"
      ],
      "text/plain": [
       "   Accuracy  precision    Recall        F1\n",
       "0  0.820688   0.948601  0.804858  0.870838"
      ]
     },
     "execution_count": 69,
     "metadata": {},
     "output_type": "execute_result"
    }
   ],
   "source": [
    "# smote\n",
    "log_reg_sm = train(log_reg, x_train_sm, y_train_sm)\n",
    "df_sm = evaluate_model(log_reg_sm, x_val_sc, y_val)\n",
    "df_sm"
   ]
  },
  {
   "cell_type": "markdown",
   "id": "017c5e09",
   "metadata": {},
   "source": [
    "- From the optimisation methods above, SMOTE has the highest precision value (95%). The False Posive value is the lowest in this model.\n",
    "\n",
    "**Explaining the Confusion Matrix**\n",
    "- The True Positive is 2916 which is the total number of correct predictions for the 1 class (<50K). Out of 3623 people who earn <50K, the model correctly predicted 2916 of them. \n",
    "- The True Negative is 1043. Out of 1201 people that earn >=50K, the model correctly predicted 1043 of them.\n",
    "- The False Positive is 158 which is the total number of incorrect predictions in the 0 class (>=50K). Out of 1201 people who earn >=50K, the model is incorrectly predicting 158 to earn <50K.\n",
    "- The False Negative is 707. Out of 3623 people who earn <50K, the model is incorrectly predicting 707 to earn >=50K.\n",
    "- The actual positives are 3623 (707 + 2916)\n",
    "- The actual negatives are 1201 (1043 + 158)"
   ]
  },
  {
   "cell_type": "markdown",
   "id": "0ae47bf6",
   "metadata": {},
   "source": [
    "#### Precision-Recall Curve"
   ]
  },
  {
   "cell_type": "code",
   "execution_count": 70,
   "id": "04358aba",
   "metadata": {},
   "outputs": [],
   "source": [
    "# import relevant libraries\n",
    "from sklearn.metrics import precision_recall_curve\n",
    "from sklearn.metrics import f1_score\n",
    "\n",
    "def get_precision_recall(model, X, y):\n",
    "    \"\"\"Function to compute Precision-Recall score and curve\n",
    "    Args:\n",
    "        model: a trained model\n",
    "        X: validation features\n",
    "        y: target in validation data\n",
    "    \"\"\"\n",
    "    preds = model.predict_proba(X)[:, 1] # using the model to make probability predictions\n",
    "    # computing the precision_recall curve from the precision, recall and thresholds\n",
    "    precision, recall, thresh = precision_recall_curve(y, preds) \n",
    "    f1_scores = 2 * (precision * recall) / (precision + recall) # computing the f1_scores\n",
    "    # getting the optimal threshold from the index of the max f1_score\n",
    "    thresh_opt = thresh[np.argmax(f1_scores)] \n",
    "    plt.plot(recall, precision) # plotting the curve\n",
    "    plt.xlabel('Recall') # x_label\n",
    "    plt.ylabel('Precision') # y_label\n",
    "    plt.title('Precision-Recall Curve') # plot title\n",
    "    plt.show()\n",
    "\n",
    "    print('Optimal threshold value:', thresh_opt)\n",
    "    "
   ]
  },
  {
   "cell_type": "code",
   "execution_count": 71,
   "id": "3e2096f0",
   "metadata": {
    "scrolled": true
   },
   "outputs": [
    {
     "data": {
      "image/png": "[encoded data removed]",
      "text/plain": [
       "<Figure size 432x288 with 1 Axes>"
      ]
     },
     "metadata": {
      "needs_background": "light"
     },
     "output_type": "display_data"
    },
    {
     "name": "stdout",
     "output_type": "stream",
     "text": [
      "Optimal threshold value: 0.2040749867622401\n"
     ]
    }
   ],
   "source": [
    "# getting the precision-recall curve for the initial mode\n",
    "get_precision_recall(log_reg_model, x_val_sc, y_val)"
   ]
  },
  {
   "cell_type": "code",
   "execution_count": 73,
   "id": "c1da81ef",
   "metadata": {},
   "outputs": [
    {
     "data": {
      "image/png": "[encoded data removed]",
      "text/plain": [
       "<Figure size 432x288 with 2 Axes>"
      ]
     },
     "metadata": {
      "needs_background": "light"
     },
     "output_type": "display_data"
    },
    {
     "data": {
      "text/html": [
       "<div>\n",
       "<style scoped>\n",
       "    .dataframe tbody tr th:only-of-type {\n",
       "        vertical-align: middle;\n",
       "    }\n",
       "\n",
       "    .dataframe tbody tr th {\n",
       "        vertical-align: top;\n",
       "    }\n",
       "\n",
       "    .dataframe thead th {\n",
       "        text-align: right;\n",
       "    }\n",
       "</style>\n",
       "<table border=\"1\" class=\"dataframe\">\n",
       "  <thead>\n",
       "    <tr style=\"text-align: right;\">\n",
       "      <th></th>\n",
       "      <th>Accuracy</th>\n",
       "      <th>precision</th>\n",
       "      <th>Recall</th>\n",
       "      <th>F1</th>\n",
       "    </tr>\n",
       "  </thead>\n",
       "  <tbody>\n",
       "    <tr>\n",
       "      <th>0</th>\n",
       "      <td>0.854063</td>\n",
       "      <td>0.872987</td>\n",
       "      <td>0.942865</td>\n",
       "      <td>0.906582</td>\n",
       "    </tr>\n",
       "  </tbody>\n",
       "</table>\n",
       "</div>"
      ],
      "text/plain": [
       "   Accuracy  precision    Recall        F1\n",
       "0  0.854063   0.872987  0.942865  0.906582"
      ]
     },
     "execution_count": 73,
     "metadata": {},
     "output_type": "execute_result"
    }
   ],
   "source": [
    "# refitting the model with the optimal threshold\n",
    "evaluate_model(log_reg_model, x_val_sc, y_val, threshold=0.2040749867622401)"
   ]
  },
  {
   "cell_type": "markdown",
   "id": "48752903",
   "metadata": {},
   "source": [
    "The model has almost similar values to the original model and the penalty model. However, the recall increased slightly to 94%, reducing the False Negative value to 207 from 263.\n",
    "\n",
    "**Explaining the Confusion Matrix**\n",
    "- The True Positive is 3416 which is the total number of correct predictions for the 1 class (<=50K). Out of 3623 people who earn <=50K, the model correctly predicted 3416 of them. \n",
    "- The True Negative is 704. Out of 1201 people that earn >50K, the model correctly predicted 704 of them.\n",
    "- The False Positive is 497 which is the total number of incorrect predictions in the 0 class (>50K). Out of 1201 people who earn >50K, the model is incorrectly predicting 497 to earn <=50K.\n",
    "- The False Negative is 207. Out of 3623 people who earn <=50K, the model is incorrectly predicting 207 to earn >50K.\n",
    "- The actual positives are 3623 (207 + 3416)\n",
    "- The actual negatives are 1201 (704 + 497)"
   ]
  },
  {
   "cell_type": "markdown",
   "id": "73922c81",
   "metadata": {},
   "source": [
    "### Recommendation and Conclusion"
   ]
  },
  {
   "cell_type": "markdown",
   "id": "b46373cd",
   "metadata": {},
   "source": [
    "- The model with the best metrics is the default model, however in order to identify more underprivileged persons in the society for effective policy implementation, the proposed model is the model with the optimal threshold obtained from the precision-recall curve  \n",
    "\n",
    "- From the analysis, education is a major factor in determining income. The government should encourage citizens to further their education and create incentives such as  scholarships and grants  \n",
    "\n",
    "- Females earn less than males, and minority races earn lower incomes. The government needs to create laws against employment discrimination based on gender and race.\n"
   ]
  },
  {
   "cell_type": "code",
   "execution_count": null,
   "id": "8a009f94",
   "metadata": {},
   "outputs": [],
   "source": []
  }
 ],
 "metadata": {
  "kernelspec": {
   "display_name": "Python 3 (ipykernel)",
   "language": "python",
   "name": "python3"
  },
  "language_info": {
   "codemirror_mode": {
    "name": "ipython",
    "version": 3
   },
   "file_extension": ".py",
   "mimetype": "text/x-python",
   "name": "python",
   "nbconvert_exporter": "python",
   "pygments_lexer": "ipython3",
   "version": "3.9.12"
  }
 },
 "nbformat": 4,
 "nbformat_minor": 5
}
